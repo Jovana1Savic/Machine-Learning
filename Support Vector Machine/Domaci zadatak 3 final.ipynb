{
 "cells": [
  {
   "cell_type": "markdown",
   "metadata": {},
   "source": [
    "### <center> Elektrotehnički fakultet </center>\n",
    "### <center> Univerzitet u Beogradu </center> ###\n",
    "\n",
    "![alt text](grb.jfif \"Title\")\n",
    "\n",
    "\n",
    "## <center> Mašinsko ucenje </center> ##\n",
    "# <center>Domaći zadatak - Metoda nosećih vektora</center> #\n",
    "\n",
    "\n",
    "#### <center> Jovana Savic 2020/3423 </center>"
   ]
  },
  {
   "cell_type": "markdown",
   "metadata": {},
   "source": [
    "## 1 Postavka problema\n",
    "\n",
    "Datoteka `svmData_ls.txt` sadrži odbirke dve linearno separabilne klase. U prve dve kolone su prediktori a u\n",
    "poslednjoj odziv. Datoteka `svmData_nls.txt` ima istu strukturu, osim što su u pitanju odbirci klasa koje nisu\n",
    "linearno separabilne.\n",
    "\n",
    "- Napišite kod za učenje parametara α SVM-a sa linearnim kernelom bez regularizacije. Možete da koristite gotovu f-ju za numeričku optimizaciju (kvadratno programiranje, SMO itd). Primenite ovaj klasifikator na linearno separabilni skup. Prikažite na istoj slici primere iz obučavajućeg skupa i separacionu pravu. Naznačite pripadnost klasi (npr. različitim bojama). Vidno označite noseće vektore.\n",
    "\n",
    "- Dopunite kod tako što ćete uvesti gubitak tipa “šarke” (formulacija sa regularizacijom). Ponovo prikažite istu sliku kao u prethodnoj tački. Komentarišite prednosti i nedostatke regularizacije. Kako ste izabrali konstantu C?\n",
    "\n",
    "- Napišite program za učenje parametara α SVM-a sa regularizacijom i kernelom po sopstvenom izboru. Primenite ovaj program na skup iz datoteke `svmData_nls.txt`. Prikažite isti grafik kao ranije. Komentarišite kako ste izabrali parametre kernela i konstantu regularizacije C."
   ]
  },
  {
   "cell_type": "markdown",
   "metadata": {},
   "source": [
    "## 2. Metoda nosećih vektora\n",
    "\n",
    "U ovom odeljku je izvedena teorija metode nosećh vektora za opšti slučaj sa kernelom i regularizacijom. Izrazi koji se koriste u algoritmu su uokvireni.\n",
    "\n",
    "### 2.1. Formulacija primalnog problema\n",
    "\n",
    "Posmatrajmo problem linearne klasifikacije u kome je separaciona prava definisana vektorom $\\omega$ i pomerajem $b$. \n",
    "\n",
    "Separacionu pravu definišemo kao:\n",
    "\n",
    "$$ \\omega^T x + b = 0$$\n",
    "\n",
    "i odbirke koji se nalaze iznad ove prave smeštamo u klasu kojoj odgovara $y=1$, a one koji su ispod smeštamo u klasu kojoj odgovara $y=-1$. \n",
    "\n",
    "Funkcionalnu marginu $i$-tog odbirka definišemo kao:\n",
    "\n",
    "$$ \\boxed{\\hat{\\gamma}^{(i)}=y^{(i)}(\\omega^Tx+b)} $$\n",
    "\n",
    "Ova margina će biti pozitivna kada je odbirak dobro klasifikovan. Funkcionalna margina celog obučavajućeg skupa je jednaka minimalnoj funkcionalnoj margini:\n",
    "\n",
    "$$ \\hat{\\gamma} = \\min_{i =1, \\dots, m}\\left\\{\\hat{\\gamma}^{(i)}\\right\\}$$\n",
    "\n",
    "Geometrijsku marginu $i$-tog odbirka definišemo kao:\n",
    "\n",
    "$$ \\gamma = y^{(i)}\\left( \\left(\\frac{\\omega}{|| \\omega ||}\\right)^Tx^{(i)}+\\frac{b}{|| \\omega ||} \\right) $$\n",
    "\n",
    "Analogno, geometrijsku marginu celog skupa definišemo kao:\n",
    "\n",
    "$$ \\gamma = \\min_{i =1, \\dots, m}\\left\\{ \\gamma^{(i)}\\right\\} $$\n",
    "\n",
    "Veza između funkcionalne i geometrijske margine je data izrazom:\n",
    "\n",
    "$$ \\gamma = \\frac{\\hat{\\gamma}}{|| \\omega ||}$$\n",
    "\n",
    "Ukoliko je funkcionalna margina veća od nule, tada se ona može proizvoljno povećavati bez ikakve suštinske promene separacione prave. Prema tome, uslov $ \\hat{\\gamma} > 0 $ je ekvivalentan uslovu $\\hat{ \\gamma} > C$ gde je $C$ proizvoljan pozitivan realan broj. Zato, maksimizacija geometrijske margine jeste ekvivalentna minimizaciji norme vektora $\\omega$ pod uslovom $\\hat{\\gamma} > C$. Dodatno, pošto je norma vektora pozitivan broj, možemo umesto minimizacijie norme raditi minimizaciju njenog kvadrata. \n",
    "\n",
    "Kada za proizvoljnu konstantu izaberemo jedinicu dobijamo sledeći optimizacioni problem:\n",
    "\n",
    "$$ \\min_{\\omega, b}\\frac{1}{2}|| \\omega ||^2 \\\\ 1 - y^{(i)}(\\omega^Tx+b) \\leq 0, \\forall i $$\n",
    "\n",
    "Ukoliko podaci nisu linearno separabilni tada možemo da relaksiramo ovaj uslov, odnosno, dozvolimo da funkcionalna margina bude i manja od nule, to jest, veća od nekog -$\\xi$, gde je $\\xi_i \\geq 0$. Kao i malopre, možemo da ubacimo proizvoljnu konstantu umesto nule, konkretno jedinicu. Očigledno, ovakve situacije su nepoželjne jer predstavljaju pogrešno klasifikovane odbirke, pa je potrebno na neki način kazniti algoritam u tim situacijama, odnosno formalizovati to da ovakve situacije treba da se dešavaju što je ređe moguće i da te greške budu što manje. Ovo je jednostavno uraditi dodavanjem tih odstupanja kriterijumskoj funkciji. Na osnovu ovoga možemo da formulišemo primarni problem sa regularizacijom:\n",
    "\n",
    "\n",
    "$$\\min_{\\omega, b}\\frac{1}{2}|| \\omega ||^2 + C \\sum_{i=1}^{m} \\xi_i \\\\ y^{(i)}(\\omega^Tx+b) \\geq1 - \\xi_i, \\xi_i \\geq 0 \\forall i$$\n"
   ]
  },
  {
   "cell_type": "markdown",
   "metadata": {},
   "source": [
    "### 2.2. Dualni problem\n",
    "\n",
    "Lagranžijan za dati problem je:\n",
    "\n",
    "$$ \\mathcal{L}(\\omega, b, \\xi, \\alpha, \\rho) = \\frac{1}{2}||\\omega||^2 + C \\sum_{i=1}^{m} \\xi_i -\\sum_{i=1}^{m} \\alpha_i \\left( y^{(i)} \\left( \\omega^T x^{(i)} + b \\right) - 1 + \\xi_i \\right) - \\sum_{i=1}^{m} \\rho_i \\xi_i$$\n",
    "\n",
    "gde su $\\alpha_i$ i $\\rho_i$ Lagranžeovi multiplikatori, pa je $\\alpha \\geq 0$ i $\\rho \\geq 0$.\n",
    "\n",
    "Za datu funkciju su zadovoljeni uslovi Karush-Kuhn-Tucker teoreme. Kriterijumska funkcija i uslovi su linearne i samim tim konveksne funkcije. Norma vektora je isto konveksna funkcija. Takođe, pošto margina sada može da bude i manja od nule uslovi su sigurno ostvarivi, pa čak i ako klase nisu linearno separabilne. Na osnovu KKT teoreme je:\n",
    "\n",
    "$$ d^*=\\max_{\\alpha \\geq 0, \\rho \\geq 0} \\min_{\\omega, b, \\xi} \\mathcal{L}(\\omega, b, \\xi, \\alpha, \\rho) = \\min_{\\omega, b, \\xi}\\max_{\\alpha \\geq 0, \\rho \\geq 0}\\mathcal{L}(\\omega, b, \\xi, \\alpha, \\rho)=p^*$$\n",
    "\n",
    "Kako su rešenja za primalni i dualni problem ista označićemo ih kao $\\omega^*$, $b^*$, $\\xi^*$, $\\alpha^*$, $\\rho^*$.\n",
    "\n",
    "Tačka u kojoj ovaj uslov važi je sedlasta tačka i u njoj je gradijent jednak nuli:\n",
    "\n",
    "$$ \\triangledown_{\\omega} \\mathcal{L}(\\omega^*, b^*, \\xi^*, \\alpha^*, \\rho^*)=0 , \\frac{\\partial \\mathcal{L}(\\omega^*, b^*, \\alpha^*)}{\\partial b} = 0,  \\triangledown_{\\xi} \\mathcal{L}(\\omega^*, b^*, \\xi^*, \\alpha^*, \\rho^*)=0$$\n",
    "\n",
    "Odatle nalazimo:\n",
    "\n",
    "$$ \\boxed{\\omega^* = \\sum_{i=1}^{m} \\alpha_i y^{(i)} x^{(i)}}$$\n",
    "\n",
    "$$ \\sum_{i=1}^{m} \\alpha_i y^{(i)} = 0$$\n",
    "\n",
    "$$ \\alpha_i + \\rho_i = C$$\n",
    "\n",
    "Zamenom dobijenih vrednosti dobijamo dualni problem:\n",
    "\n",
    "$$ \\mathcal{L_D} (\\alpha, \\rho) = \\sum_{i=1}^m \\alpha_i - \\frac{1}{2}\\sum_{i=1}^m \\sum_{j=1}^m \\alpha_i \\alpha_j y^{(i)}y^{(j)}\\langle x^{(i)}, x^{(j)} \\rangle$$\n",
    "\n",
    "uz uslove $\\alpha \\geq 0$, $\\rho \\geq 0$ i $\\alpha_i + \\rho_i = C, \\forall i$.\n",
    "\n",
    "Ovi uslovi mogu da se svedu na jedan u kome ne figuriše $\\rho$. Takođe, ako uvedemo matricu $Q$ gde je $Q_{i,j} = y^{(i)}y^{(j)} \\langle x^{(i)}, x^{(j)} \\rangle$ i vektor jedinica $e = [1 1 \\dots 1]^T$ dobijamo konačnu formu optimizacionog problema:\n",
    "\n",
    "$$\\max_{\\alpha}e^T\\alpha - \\frac{1}{2} \\alpha^TQ\\alpha \\\\\n",
    "y^T\\alpha=0 \\\\\n",
    "0 \\leq \\alpha_i \\leq C \\\\\n",
    "i = 1, 2, \\dots, m$$\n",
    "\n",
    "Na osnovu KKT teoreme važe i uslovi komplementarne popustljivosti:\n",
    "\n",
    "$$\\boxed{\\alpha_i = 0 \\Leftrightarrow \\hat{\\gamma}^{(i)} \\geq 1 \\\\\n",
    "\\alpha_i = C \\Leftrightarrow \\hat{\\gamma}^{(i)} \\leq 1 \\\\\n",
    "0 <\\alpha_i < C \\Leftrightarrow \\hat{\\gamma}^{(i)} = 1}$$\n",
    "\n",
    "Nakon rešavanja datog optimizacionog problema odluku za odbirak $x$ donosimo na osnovu izraza:\n",
    "\n",
    "$$ \\boxed{\\text{sign} (\\omega^T x +b) = \\text{sign} \\left( \\sum_{i=1}^{m} y^{(i)} \\alpha_i \\langle x^{(i)}, x \\rangle + b \\right)}$$"
   ]
  },
  {
   "cell_type": "markdown",
   "metadata": {},
   "source": [
    "### 2.3. Rešenje dualnog problema\n",
    "\n",
    "Funkcija koju maksimizujemo zadovoljava uslove koji su potrebni za primenu gradijentnog uspona. Ovaj algoritam se bazira na tome da funkciju maksimizujemo tako što je maksimizujemo po svakoj komponenti posebno. Ipak, za rešavanje dualnog problema dati algoritam moramo malo da modifikujemo. Naime, zbog uslova $y^T \\alpha = 0$ nije moguće menjati samo jedan parametar (to automatski krši dati uslov). Zbog toga funkciju optimizujemo po paru $\\alpha_k, \\alpha_l$, kao što je dato u pseudokodu ispod, pri tome, drugi parametar linearno zavisi od prvog.\n",
    "\n",
    "```\n",
    "   SMO \n",
    "    loop until converged:\n",
    "        select alpha1 and alpha2\n",
    "        maximize W with respect to alpha_k and alpha_l while holding other alphas fixed\n",
    "```\n",
    "\n",
    "#### 2.1.1. Maksimizacija funkcije po izabranom paru \n",
    "\n",
    "Prvo ćemo da definišemo vezu između ova dva parametra:\n",
    "\n",
    "Na osnovu uslova $y^T \\alpha = 0$, $\\alpha_l$ možemo da pišemo kao:\n",
    "\n",
    "$$ \\alpha_l =  -y^{(l)} \\sum_{i=1, i \\neq k, l }^{m} \\alpha_i y^{(i)} - y^{(k)} y^{(l)} \\alpha_k $$\n",
    "\n",
    "Ili kraće:\n",
    "\n",
    "$$ \\boxed{\\alpha_l = \\zeta_0 + \\zeta_1 \\alpha_k}$$\n",
    "\n",
    "Dalje nalazimo izvod funkcije po vektoru $\\alpha$.\n",
    "\n",
    "$$ \\frac {\\partial \\mathcal{L_D}}{\\partial \\alpha} = e - Q \\alpha $$\n",
    "\n",
    "Množenjem dobijamo vektor:\n",
    "\n",
    "$$ \\left[ \\frac{ \\partial \\mathcal{L_D}}{\\partial \\alpha}\\right]_i = 1 - y^{(i)} \\sum_{j=1}^{m} y^{(j)} \\alpha_j \\langle x^{(i)}, x^{(j)} \\rangle  $$\n",
    "\n",
    "i iz njega možemo samo da pročitamo izvode koji nam trebaju.\n",
    "\n",
    "Za maksimizaciju po datom paru je potrebno da izvod po $\\alpha_k$ izjednačimo sa nulom. Pre toga je zgodno setiti se sledećeg:\n",
    "\n",
    "$$ \\frac{\\text{d}f(x,y)}{\\text{d}t}=\\frac{\\partial f(x,y)}{\\partial x}\\frac{\\text{d}x}{\\text{d}t} + \\frac{\\partial f(x,y)}{\\partial y}\\frac{\\text{d}y}{\\text{d}t} $$\n",
    "\n",
    "Ukoliko je $x=t$ dobijamo:\n",
    "\n",
    "$$\\frac{\\text{d}f(x,y)}{\\text{d}x}=\\frac{\\partial f(x,y)}{\\partial x} + \\frac{\\partial f(x,y)}{\\partial y}\\frac{\\text{d}y}{\\text{d}x}$$\n",
    "\n",
    "Na osnovu ovoga nalazimo izvod po $\\alpha_k$ kao:\n",
    "\n",
    "$$ \\frac{\\partial \\mathcal{L_D}}{\\partial \\alpha_k} = \\left( 1 - y^{(k)}\\sum_{j=1}^{m} y^{(j)} \\alpha_j \\langle x^{(k)}, x^{(j)} \\rangle \\right) + \\left( 1 - y^{(l)}\\sum_{j=1}^{m} y^{(j)} \\alpha_j \\langle x^{(l)}, x^{(j)} \\rangle \\right) \\zeta_1$$\n",
    "\n",
    "Sređivanjem ovog izraza i izjednačavanjem sa nulom dobijamo:\n",
    "\n",
    "$$ (1+\\zeta_1) + y^{(k)} \\sum_{j=1}^{m} y^{(j)} \\alpha_j \\langle x^{(l)} - x^{(k)}, x^{(j)} \\rangle = 0$$\n",
    "\n",
    "Rešenje ove jednačine je optimalna vrednost parametra, i ona može da se napiše kao:\n",
    "\n",
    "$$ \\alpha_k^* = \\alpha_k + \\Delta \\alpha_k$$\n",
    "\n",
    "gde je $\\alpha_k$ stara vrednost. Tada ispred sume možemo da izvučemo traženu promenu:\n",
    "\n",
    "$$ (1 + \\zeta_1) + y^{(k)} \\left( y^{(l)} \\Delta \\alpha_l \\langle x^{(l)}-x^{(k)}, x^{(l)} \\rangle + y^{(k)} \\Delta \\alpha_k \\langle x^{(l)} - x^{(k)}, x^{(k)} \\rangle \\right) + y^{(k)} \\sum_{j=1}^{m} y^{(j)} \\alpha_j \\langle x^{(l)} - x^{(k)}, x^{(j)} \\rangle = 0$$\n",
    "\n",
    "Pre nego što rešimo datu jednačinu uvedimo pojam greške na $k$-tom primeru:\n",
    "\n",
    "$$ \\boxed{E^{(k)} = y^{(k)}( \\hat{\\gamma}^{(k)} - 1) = \\omega^T x^{(k)} + b - y^{(k)}}$$\n",
    "\n",
    "Zamenom vrednosti $\\omega$ koju smo dobili izjednačavanjem gradijenta sa nulom možemo da definišemo razliku grešaka na primerima $k$ i $l$:\n",
    "\n",
    "$$ E^{(l)} - E^{(k)} = \\sum_{j=1}^m \\alpha_j y^{(j)} \\langle x^{(l)} - x^{(k)}, x^{(j)} \\rangle - y^{(l)} + y^{(k)}$$\n",
    "\n",
    "Korišćenjem činjenice da je $\\Delta \\alpha_l = \\zeta_1 \\Delta \\alpha_k$ i dobijenog izraza za grešku dobijamo:\n",
    "\n",
    "$$ 1 + \\zeta_1 - \\Delta \\alpha_k || x^{(l)} - x^{(k)} ||^2 + y^{(k)} (E^{(l)} - E^{(k)} + y^{(l)} - y^{(k)}) = 0$$\n",
    "\n",
    "$$ \\Delta \\alpha_k = - y^{(k)} \\frac{E^{(l)} - E^{(k)}}{\\eta}$$\n",
    "\n",
    "gde je $\\eta = - || x^{(l)} - x^{(k)}||^2$.\n",
    "\n",
    "Nalazimo da je:\n",
    "\n",
    "$$ \\boxed{ \\alpha_k^* = \\alpha_k - y^{(k)} \\frac{E^{(l)} - E^{(k)}}{\\eta}}$$.\n",
    "\n",
    "Ipak, ovo nije konačno rešenje. Treba se setiti da važi uslov $0 \\leq \\alpha \\leq C$. Prema tome, treba da važi:\n",
    "\n",
    "$$\\left\\{ 0 \\leq\\alpha_k \\leq C \\right\\} \\wedge \\left\\{ 0 \\leq \\zeta_0 +\\zeta_1 \\alpha_k \\leq C\\right\\}$$\n",
    "\n",
    "Date uslove možemo kompaktno da zapišemo kao $L \\leq \\alpha_k \\leq H$ gde su $L$ i $H$ definisani kao:\n",
    "\n",
    "$$L = \\begin{cases}\n",
    "  \\max \\left\\{ 0, -\\zeta_0\\right\\} & \\zeta_1 =1\\\\    \n",
    "  \\max \\left\\{0, \\zeta_0 - C\\right\\} & \\zeta_1 = -1   \n",
    "\\end{cases}$$\n",
    "\n",
    "$$H = \\begin{cases}\n",
    "  \\min \\left\\{ C - \\zeta_0, C\\right\\} & \\zeta_1 =1\\\\    \n",
    "  \\min \\left\\{ \\zeta_0, C\\right\\} & \\zeta_1 = -1   \n",
    "\\end{cases}$$\n",
    "\n",
    "Znamo da je $\\zeta_0 = \\alpha_l - \\zeta_1 \\alpha_k$ i da je $\\alpha^Ty=0$ i na osnovu ovoga dobijamo sledeće izraze za $L$ i $H$ koji se lakše implementiraju:\n",
    "\n",
    "$$\\boxed{L = \\begin{cases}\n",
    "  \\max \\left\\{ 0, \\alpha_k - \\alpha_l \\right\\} &  y^{(k)} = y^{(l)}\\\\    \n",
    "  \\max \\left\\{0, \\alpha_l + \\alpha_k - C\\right\\} & y^{(k)} \\neq y^{(l)}  \n",
    "\\end{cases}}$$\n",
    "\n",
    "$$\\boxed{H = \\begin{cases}\n",
    "  \\min \\left\\{ C -\\alpha_l + \\alpha_k, C\\right\\} & y^{(k)} = y^{(l)}\\\\    \n",
    "  \\min \\left\\{ \\alpha_l +\\alpha_k, C\\right\\} & y^{(k)} \\neq y^{(l)}  \n",
    "\\end{cases}}$$\n",
    "\n",
    "Dakle, ukoliko je izračunata optimalna vrednost iznad gornje granice, odnosno ispod dodje granice, ne možemo da je iskoristimo, već da stanemo tu gde je granica. Konačno, na osnovu svega izloženog zaključujemo kako se određuje optimalno $\\alpha_k$:\n",
    "\n",
    "$$\\boxed{\\alpha_k := \\begin{cases}\n",
    "  H & \\alpha_k^* > H\\\\  \n",
    "  \\alpha_k^* & L \\leq \\alpha_k^* \\leq H \\\\\n",
    "  L & \\alpha_k^* < L   \n",
    "\\end{cases}}$$\n",
    "\n",
    "Nakon toga računamo i $\\alpha_l$ na osnovu te dobijene vrednosti i veze koja postoji između njih."
   ]
  },
  {
   "cell_type": "markdown",
   "metadata": {},
   "source": [
    "#### 2.1.2. Maksimizacija funkcije - detalji implementacije\n",
    "\n",
    "Gore smo dobili izraz za nalaženje nove vrednosti parametara $\\alpha_k$ i $\\alpha_l$. \n",
    "\n",
    "Prva stvar koju može da bude problematična je situacija u kojoj je $\\eta=0$. Ako pogledamo definiciju ove promenljive, jasno je da se radi o slučaju u kome su $x^{(k)}$ i $x^{(l)}$ ista tačka. Zbog toga i dobijeni izraz za nalaženje nove vrednosti u ovoj situaciji nema smisla. Jasno je da ne možemo koristiti par koji predstavlja istu tačku. Prema tome, ukoliko naš algoritam dođe u ovu situaciju to je znak da prosto treba uzeti neki drugi par.\n",
    "\n",
    "Dalje je potrebno da definišemo novu vrednost parametra $b$. Na osnovu uslova komplementarnosti kada je $0 < \\alpha_k < C$ funkcionalna margina za $k$-ti odbirak je jednaka jedinici, što na osnovu definicije greške znači da je greška jednaka nuli. Analogno važi i za $\\alpha_l$. Na osnovu ovoga nalazimo da je:\n",
    "\n",
    "$$ \\sum_{j=1}^{m} \\alpha_j y^{(j)} \\langle x^{(j)}, x^{(k)} \\rangle + b - y^{(k)} + \\Delta \\alpha_k y^{(k)} \\langle x^{(k)}, x^{(k)} \\rangle + \\Delta \\alpha_l y^{(l)} \\langle x^{(l)}, x^{(k)} \\rangle + \\Delta b = 0$$\n",
    "\n",
    "$$ \\boxed{b_k = b -E^{(k)} - \\Delta \\alpha_k y^{(k)} \\langle x^{(k)}, x^{(k)} \\rangle - \\Delta \\alpha_l y^{(l)} \\langle x^{(l)}, x^{(k)} \\rangle} $$\n",
    "\n",
    "gde je sa $b_k$ označena nova vrednost koju dobijamo na osnovu promene $\\alpha_k$.\n",
    "\n",
    "Analogno, nalazimo i $b_l$:\n",
    "\n",
    "$$ \\boxed{b_l = b -E^{(l)} - \\Delta \\alpha_l y^{(l)} \\langle x^{(l)}, x^{(l)} \\rangle - \\Delta \\alpha_k y^{(k)} \\langle x^{(l)}, x^{(k)} \\rangle}$$\n",
    "\n",
    "Oduzimanjem ove dve jednačine nije teško pokazati da će ove dve vrednosti biti iste ako su oba parametra u opsegu $(0, C)$. \n",
    "\n",
    "Ukoliko je samo jedan parametar u datom opsegu, pošto uslov komplementarnosti znači da margina nije strogo manja, odnosno, strogo veća od jedinice u graničnim oblastima, ono $b$ za koje je za jedan parametar greška jednaka nuli odgovara i drugom parametru. \n",
    "\n",
    "Ukoliko su oba parametra na granici tada bilo koje $b$ iz opsega $b_k$ i $b_l$ zadovoljava uslove KKT teoreme, pa uzimamo ono koje je na polovini.\n",
    "\n",
    "Odavde nalazimo novu vrednost za $b$:\n",
    "\n",
    "$$\\boxed{b := \\begin{cases}\n",
    "  b_k & 0 < \\alpha_k < C\\\\  \n",
    "  b_l & 0 < \\alpha_l < C \\\\\n",
    "  \\frac{b_k+b_l}{2}    \n",
    "\\end{cases}}$$\n",
    "\n",
    "Sada možemo da nađemo i vezu između stare greške i nove za proizvoljan odbirak $x^{(i)}$. \n",
    "\n",
    "$$ \\boxed{\\Delta E^{(k)} = \\Delta \\alpha_k y^{(k)} \\langle x^{(k)}, x^{(i)} \\rangle + \\Delta \\alpha_l y^{(l)} \\langle x^{(l)}, x^{(i)} \\rangle + b^{\\text{new}} - b}$$.\n"
   ]
  },
  {
   "cell_type": "markdown",
   "metadata": {},
   "source": [
    "### 2.2. Biranje para za optimizaciju\n",
    "\n",
    "Maksimizacija funkcije po paru je prilično jasna obzirom da postoji analitičko rešenje koje treba primeniti. Ono odakle potiče kompleksnost ovog algoritma, ali i gde postoji najviše prostora za optimizaciju je način odabiranja ovih parova. \n",
    "\n",
    "Na osnovu Osunove teoreme se garantuje konvergencija algoritma dokle god se na svakom koraku funkcija maksimizuje po paru u kome je bar jedan parametar takav da ne ispunjava uslove KKT teoreme. Međutm, u zavisnosti od toga kako biramo parove ovih parametara brzina kojom se izvršava algoritam može znatno da se razlikuje. Ovo je posebno značajno kada je naš skup na kome obučavamo klasifikator jako veliki.\n",
    "\n",
    "U ovom domaćem zadatku je implementiran algoritam koji je dat u Platt-ovom radu [A Fast Algorithm for Training Support Vector Machines](https://www.microsoft.com/en-us/research/wp-content/uploads/2016/02/tr-98-14.pdf)\n",
    "\n",
    "Koristimo dve različite heuristike za biranje prvog parametra i potom drugog. Heuristika za biranje prvog parametra, $\\alpha_l$ je sledeća: prolazimo kroz sve odbirke iz trenirajućeg skupa i tražimo one koji ne ispunjavaju usloove KKT teoreme. Ukoliko odbirak ne ispunjava uslove, tada se kreće u optimizaciju gde je on prvi član para. Nakon ovakvog prolaska kroz sve primere primenjujemo drugačiji prolazak. U drugom prolasku, umesto kroz sve primere, prolazimo kroz one za koje vrednost parametra nije na granicama, jer je vrlo verovatno da se oni neće dalje menjati. Potom optimizujemo algoritam prema ovim odbircima dokle god je moguće. Onda kada više ne možemo da optimizujemo ovakve parove ponovo prolazimo kroz ceo trenirajući skup. Ako smo prošli kroz ceo skup podataka, a nismo promenili nijedan parametar algoritam je dostigao maksimum i završava se. \n",
    "\n",
    "Drugi član para, $\\alpha_k$ biramo tako da maksimizujemo korak koji pravimo pri optimizaciji. Drugi član se bira tako da se maksimizuje $|E^{(k)} - E^{(l)}|$. Ukoliko za ovako izabran drugi parametar algoritam nije u stanju da napravi korak prolazi se kroz skup parametara koji nisu na granici i pravi korak. Ukoliko se desi da i na ovaj način algoritam ne pravi progres, gleda se ceo skup i u njemu nalazi drugi parametar.\n"
   ]
  },
  {
   "cell_type": "markdown",
   "metadata": {},
   "source": [
    "### 2.3. Kernel trik\n",
    "\n",
    "Ukoliko umesto $x$ koristimo $\\phi (x)$ možemo da rešavamo problem u višedimenzionom prostoru i da dobijemo granice odluke koje nisu linearne. Vidimo da u svakom izrazu koji koristimo figuriše unutrašnji proizvod vektora $x$, ovaj unutrašnji proizvod možemo da definišemo kao kernel:\n",
    "\n",
    "$$ K\\left( x^{(i)}, x^{(j)} \\right) = \\langle \\phi \\left( x^{(i)} \\right), \\phi \\left( x^{(j)} \\right) \\rangle$$\n",
    "\n",
    "Prema Merceovoj teoremi validan kernel je onaj kernel za koji je $K(x^{(i)}, x^{(j)}) \\geq 0$ $\\forall (i,j) \\in \\left\\{ 1, 2, \\dots m \\right\\}$ za svaki skup.\n",
    "\n",
    "Lepota ovog rešenja je u tome što sada u našem rešenju figuriše isključivo kernel funkcija, to jest, ni ne moramo da znamo koliko je $\\phi(x)$, a ona se najčešće mnogo efikasnije računa direktno nego pomoću untrašnjeg proizvoda. Sa druge strane, Merceova teorema nam i kaže šta jeste validan kernel, pa je problem potpuno rešiv bez poznavanja $\\phi$.\n",
    "\n",
    "Kada koristimo kernel trik, $\\eta$ definišemo kao:\n",
    "\n",
    "$$\\boxed{\\eta = K(x^{(k)}, x^{(l)}) + K(x^{(l)}, x^{(l)}) - 2K(x^{(k)}, x^{(l)})}$$\n",
    "\n",
    "\n",
    "Kada u prethodno izloženo rešenje ubacimo kernel funkciju umesto unutrašnjih proizvoda dobijamo uopšteni oblik metode nosećih vektora za koji dajemo implementaciju ispod."
   ]
  },
  {
   "cell_type": "markdown",
   "metadata": {},
   "source": [
    "## 3. Implementacija algoritma\n",
    "\n",
    "Dajemo implementaciju koja je urađena na osnovu pseudokoda datog u gore pomenutom radu i na osnovu izvođenja prikazanog iznad. Implementacija je data za opšti slučaj sa kernelom i regularizacijom.\n",
    "\n",
    "### 3.1. Kernel klasa"
   ]
  },
  {
   "cell_type": "code",
   "execution_count": 1,
   "metadata": {},
   "outputs": [],
   "source": [
    "import numpy as np\n",
    "\n",
    "class Kernel:\n",
    "    def K(self,X,Z):\n",
    "        pass\n",
    "    \n",
    "class LinearKernel(Kernel):\n",
    "    def __init__(self, bias=0):\n",
    "        self.bias = bias\n",
    "        \n",
    "    def K(self, X, Z):\n",
    "        return X @ Z.T + self.bias\n",
    "    \n",
    "class PolynomialKernel(Kernel):\n",
    "    def __init__(self, degree, bias=0):\n",
    "        self.degree = degree\n",
    "        self.bias = bias\n",
    "        \n",
    "    def K(self, X, Z):\n",
    "        #return np.power(X @ Z.T + self.bias, self.degree)\n",
    "        ret = np.zeros((X.shape[0], Z.shape[0]))\n",
    "        for i in range(X.shape[0]):\n",
    "            for j in range(Z.shape[0]):\n",
    "                ret[i][j] = (np.inner(X[i,:], Z[j,:]) + self.bias) ** self.degree\n",
    "        return ret\n",
    "        \n",
    "class GaussianKernel(Kernel):\n",
    "    def __init__(self, sigma):\n",
    "        self.sigma = sigma\n",
    "    \n",
    "    def K(self, X, Z):\n",
    "        ret = np.zeros((X.shape[0], Z.shape[0]))\n",
    "        for i in range(X.shape[0]):\n",
    "            for j in range(Z.shape[0]):\n",
    "                ret[i][j] = np.exp((- 0.5 * np.inner(X[i,:] - Z[j,:], X[i, :]- Z[j,:])) / (self.sigma ** 2))\n",
    "        return ret"
   ]
  },
  {
   "cell_type": "markdown",
   "metadata": {},
   "source": [
    "### 3.2. Klasa koja implementira metodu nosećih vektora"
   ]
  },
  {
   "cell_type": "code",
   "execution_count": 2,
   "metadata": {},
   "outputs": [],
   "source": [
    "class mySVM:\n",
    "    def __init__(self, kernel, C, X, y, tol, eps):\n",
    "        self.kernel = kernel\n",
    "        self.C = C\n",
    "        self.X = X\n",
    "        self.y = y\n",
    "        self.alpha = None\n",
    "        self.b = None\n",
    "        self.m = X.shape[0]\n",
    "        self.tol = tol\n",
    "        self.eps = eps\n",
    "        self.K = None\n",
    "        \n",
    "    def predict(self, X_test):\n",
    "        # If it's not trained return nothing.\n",
    "        if self.alpha is None:\n",
    "            return None\n",
    "        return np.sign(((self.alpha * self.y).T @ self.kernel.K(self.X, X_test) + self.b).T)\n",
    "    \n",
    "    \n",
    "    def computeLH(self, i1, i2):\n",
    "        if self.y[i1] == self.y[i2]:\n",
    "            L = max(0, self.alpha[i1] + self.alpha[i2] - self.C)\n",
    "            H = min(0, self.alpha[i1] + self.alpha[i2])\n",
    "        else:\n",
    "            L = max(0, self.alpha[i2] - self.alpha[i1])\n",
    "            H = min(self.C, self.C + self.alpha[i2] - self.alpha[i1])\n",
    "            \n",
    "        return L, H\n",
    "    \n",
    "    def takeStep(self, i1, i2):\n",
    "        if i1 == i2:\n",
    "            return 0\n",
    "        \n",
    "        L, H = self.computeLH(i1, i2)\n",
    "        if L == H:\n",
    "            return 0\n",
    "        \n",
    "        eta = self.K[i1, i1] + self.K[i2, i2] - 2*self.K[i1, i2]\n",
    "        \n",
    "        if abs(eta) <= self.tol:\n",
    "            return 0\n",
    "        \n",
    "        alpha1, alpha2 = self.alpha[i1], self.alpha[i2]\n",
    "        E1, E2 = self.E[i1], self.E[i2]\n",
    "        y1, y2 = self.y[i1], self.y[i2]\n",
    "        \n",
    "        a2 = alpha2 + y2*(E1-E2)/eta\n",
    "        if a2 < L:\n",
    "            a2 = L\n",
    "        elif a2 > H:\n",
    "            a2 = H\n",
    "   \n",
    "        # Cannot be optimized within given tolerance.\n",
    "        if abs(a2 - alpha2) < self.eps * (a2 + alpha2 + self.eps):\n",
    "            return 0\n",
    "        \n",
    "        a1 = alpha1 + y1*y2*(alpha2-a2)\n",
    "        \n",
    "        # Calculate new b.\n",
    "        b1 = -E1 - y1 * (a1 - alpha1) * self.K[i1, i1] - y2 * (a2 - alpha2) * self.K[i1, i2] + self.b\n",
    "        b2 = -E2 - y1 * (a1 - alpha1) * self.K[i1, i2] - y2 * (a2 - alpha2) * self.K[i2, i2] + self.b\n",
    "        \n",
    "        if 0 < a1 < self.C:\n",
    "            b_new = b1\n",
    "        elif 0 < a2 < self.C:\n",
    "            b_new = b2\n",
    "        else:\n",
    "            b_new = (b1 + b2) / 2\n",
    "            \n",
    "        # Update errors\n",
    "        for i in range(self.m):\n",
    "            self.E[i] -= -y1*(a1 - alpha1)*self.K[i1, i] - y2*(a2-alpha2)*self.K[i2, i] - b_new + self.b\n",
    "            \n",
    "        if 0 < a1 < self.C:\n",
    "            self.E[i1] = 0\n",
    "        if 0 < a2 < self.C:\n",
    "            self.E[i2] = 0\n",
    "            \n",
    "        # Update b and alphas\n",
    "        self.b = b_new\n",
    "        self.alpha[i1] = a1\n",
    "        self.alpha[i2] = a2\n",
    "        \n",
    "        return 1\n",
    "            \n",
    "    \n",
    "    def examineExample(self, i2):\n",
    "        \n",
    "        r2 = self.E[i2] * self.y[i2] \n",
    "        if (r2 < -self.tol and self.alpha[i2] < self.C) or (r2 > self.tol and self.alpha[i2] > 0):\n",
    "            \n",
    "            # examine alphas that are not in the boundaries\n",
    "            if len(self.alpha[(self.alpha != 0) & (self.alpha != self.C)]) > 1:\n",
    "                # use second choice heuristics - maximize abs(E1 - E2)\n",
    "                if self.E[i2] <+ 0:\n",
    "                    i1 = np.argmax(self.E)\n",
    "                else:\n",
    "                    i1 = np.argmin(self.E)\n",
    "                \n",
    "                self.totalIterations += 1\n",
    "                if self.takeStep(i1, i2):\n",
    "                    return 1\n",
    "            \n",
    "            # Didn't work - Loop over all non-zero and non-C alphas, starting at random.\n",
    "            for i1 in np.roll(np.where((self.alpha != 0) & (self.alpha != self.C))[0], np.random.randint(0, self.m)):\n",
    "                self.totalIterations += 1\n",
    "                if self.takeStep(i1, i2):\n",
    "                    return 1\n",
    "                \n",
    "            # Didn't work again. Loop through all samples\n",
    "            for i1 in range(self.m):\n",
    "                self.totalIterations += 1\n",
    "                if self.takeStep(i1, i2):\n",
    "                    return 1\n",
    "                \n",
    "        return 0\n",
    "            \n",
    "    \n",
    "    def train(self):\n",
    "        \n",
    "        self.alpha = np.zeros((self.m, 1))\n",
    "        self.b = 0\n",
    "        \n",
    "        # keep kernel matrx\n",
    "        self.K = self.kernel.K(self.X, self.X) \n",
    "        # error cache\n",
    "        self.E = (((self.alpha * self.y).T @ self.K + self.b).T) - self.y \n",
    "        \n",
    "        numChanged = 0\n",
    "        examineAll = True\n",
    "        \n",
    "        self.totalNumChanged = 0 # number of actual steps taken\n",
    "        self.totalIterations = 0 # number of alphas visited\n",
    "        \n",
    "        while (numChanged > 0) or examineAll: \n",
    "            numChanged = 0              \n",
    "            if examineAll:\n",
    "                for i in range(self.m):\n",
    "                    numChanged += self.examineExample(i)\n",
    "                    self.totalIterations += 1\n",
    "            else:\n",
    "                for i in np.where((self.alpha != 0) & (self.alpha != self.C))[0]:\n",
    "                    numChanged += self.examineExample(i)\n",
    "                    self.totalIterations += 1\n",
    "                    \n",
    "            self.totalNumChanged += numChanged\n",
    "            \n",
    "            if examineAll:\n",
    "                examineAll = False\n",
    "            elif numChanged == 0:\n",
    "                examineAll = True\n",
    "                \n",
    "            if self.totalIterations > 200000:\n",
    "                print(\"Total number of iterations execeded!\")\n",
    "                break\n",
    "                \n",
    "        mask = np.round(self.alpha.reshape((-1,)), decimals=2) != 0.0\n",
    "        self.support_vectors = self.X[mask[:], :]\n",
    "        self.support_vectors_y = self.y[mask, :]\n",
    "        self.omega = (self.y * self.alpha).T @ self.X\n",
    "        \n",
    "        "
   ]
  },
  {
   "cell_type": "markdown",
   "metadata": {},
   "source": [
    "### 3.3. Prikaz podataka i klasifikatora"
   ]
  },
  {
   "cell_type": "code",
   "execution_count": 3,
   "metadata": {},
   "outputs": [],
   "source": [
    "import matplotlib.pyplot as plt\n",
    "\n",
    "\n",
    "def plot_data_and_boundary(X, y, svm, linear=False):\n",
    "    \n",
    "    colors=('b', 'k', 'r') \n",
    "    levels=(-1, 0, 1)\n",
    "    xrange = np.linspace(X[:,0].min(), X[:,0].max(), 1000)\n",
    "    yrange = np.linspace(X[:,1].min(), X[:,1].max(), 1000)\n",
    "    \n",
    "    # Plot data\n",
    "    plt.figure(figsize=(12,9))\n",
    "    plt.scatter(X[:,0], X[:,1],\n",
    "               c=y, cmap='bwr', lw=0, alpha=0.75)\n",
    "    \n",
    "    # If linear plot separation line.\n",
    "    if linear:\n",
    "        \n",
    "        sep_line = lambda x, b, w : -(b + w[0, 0] * x) / w[0, 1]\n",
    "        y_svm = sep_line(xrange, svm.b, svm.omega)\n",
    "        plt.plot(xrange, y_svm, '--', label='SVM')\n",
    "    \n",
    "    # Plot each class' space.\n",
    "    xmin, xmax, ymin, ymax = plt.axis()\n",
    "    xx, yy = np.meshgrid(\n",
    "        np.linspace(xmin, xmax, num=100, endpoint=True), \n",
    "        np.linspace(ymin, ymax, num=100, endpoint=True))\n",
    "    Z = svm.predict(np.c_[xx.ravel(), yy.ravel()])\n",
    "    Z = Z.reshape(xx.shape)\n",
    "    plt.contourf(xx, yy, Z, alpha=0.1, cmap='bwr')\n",
    "    \n",
    "    \n",
    "    # Plot support vectors (non-zero alphas)\n",
    "    # as circled points (linewidth > 0)\n",
    "    plt.scatter(svm.support_vectors[:,0], svm.support_vectors[:,1],\n",
    "               c=svm.support_vectors_y, cmap='bwr', lw=3, edgecolors='k')"
   ]
  },
  {
   "cell_type": "markdown",
   "metadata": {},
   "source": [
    "### 3.4. Učitavanje i standardizacija podataka"
   ]
  },
  {
   "cell_type": "code",
   "execution_count": 4,
   "metadata": {},
   "outputs": [],
   "source": [
    "import pandas as pd\n",
    "from sklearn.model_selection import train_test_split\n",
    "from sklearn.preprocessing import StandardScaler\n",
    "\n",
    "def read_standardize_split_data(file_path, num_of_variables):\n",
    "    \n",
    "    header_list = []\n",
    "    for i in range(num_of_variables):\n",
    "        header_list.append('x'+str(i))\n",
    "    header_list.append('y')\n",
    "    \n",
    "    features = header_list[0:num_of_variables]\n",
    "    \n",
    "    _data = pd.read_csv(file_path, header=None, names=header_list, sep='\\t', lineterminator='\\r') \n",
    "    \n",
    "    X = _data[features]\n",
    "    y = _data['y']\n",
    "    \n",
    "    X = (X.to_numpy())\n",
    "    y = (y.to_numpy())\n",
    "    y = y.reshape(-1, 1)\n",
    "    \n",
    "    # X_train, X_test, y_train, y_test = train_test_split(X, y, test_size=0.15, random_state=2)\n",
    "    \n",
    "    # scaler = StandardScaler().fit(X_train)\n",
    "    # X_train = scaler.transform(X_train)\n",
    "    # X_test = scaler.transform(X_test)\n",
    "    # X = scaler.transform(X_train)\n",
    "    \n",
    "    # return X, X_train, X_test, y, y_train, y_test\n",
    "    \n",
    "    scaler = StandardScaler().fit(X)\n",
    "    X = scaler.transform(X)\n",
    "    \n",
    "    \n",
    "    return X, y"
   ]
  },
  {
   "cell_type": "markdown",
   "metadata": {},
   "source": [
    "## 4. Linearni kernel bez regularizacije\n",
    "\n",
    "U ovom odeljku posmatramo šta se dešava kada ne postoji regularizacija, koristimo linearni kernel i imamo linearno separabilne podatke. "
   ]
  },
  {
   "cell_type": "code",
   "execution_count": 5,
   "metadata": {},
   "outputs": [
    {
     "data": {
      "image/png": "[encoded data removed]",
      "text/plain": [
       "<Figure size 864x648 with 1 Axes>"
      ]
     },
     "metadata": {
      "needs_background": "light"
     },
     "output_type": "display_data"
    }
   ],
   "source": [
    "X, y = read_standardize_split_data(\"svmData_ls.txt\", 2)\n",
    "svm = mySVM(kernel=LinearKernel(), C=float(\"inf\"), X = X, y=y, tol=0.001, eps=0.001)\n",
    "\n",
    "svm.train()\n",
    "plot_data_and_boundary(X, y, svm, linear=True)"
   ]
  },
  {
   "cell_type": "markdown",
   "metadata": {},
   "source": [
    "Na slici iznad vidimo rezultate klasifikacije. Noseći vektori su uokvireni crnom bojom. Odgovarajućim bojama su označene oblasti svake klase. Podaci su linearno separabilni i zato uspevamo da pronađemo separacionu pravu koja ne pravi grešku ni na jednom primeru. Možemo da pogledamo koliko koraka i iteracija je bilo potrebno algoritmu da pronađe rešenje."
   ]
  },
  {
   "cell_type": "code",
   "execution_count": 6,
   "metadata": {},
   "outputs": [
    {
     "data": {
      "text/plain": [
       "32"
      ]
     },
     "execution_count": 6,
     "metadata": {},
     "output_type": "execute_result"
    }
   ],
   "source": [
    "svm.totalNumChanged"
   ]
  },
  {
   "cell_type": "code",
   "execution_count": 7,
   "metadata": {},
   "outputs": [
    {
     "data": {
      "text/plain": [
       "382"
      ]
     },
     "execution_count": 7,
     "metadata": {},
     "output_type": "execute_result"
    }
   ],
   "source": [
    "svm.totalIterations"
   ]
  },
  {
   "cell_type": "markdown",
   "metadata": {},
   "source": [
    "Za 50 odbiraka imamo 1225 različitih kombinacija parova. Vidimo da su heuristike koje su uvedene dovele do toga da proverom oko trećine ovih kombinacija dostignemo konačno rešenje. Pri tome, imamo samo 34 promene para parametara (što je i najskuplja operacija). "
   ]
  },
  {
   "cell_type": "code",
   "execution_count": 8,
   "metadata": {},
   "outputs": [
    {
     "data": {
      "text/plain": [
       "array([[584.39466285],\n",
       "       [ 33.00622716],\n",
       "       [617.40089001]])"
      ]
     },
     "execution_count": 8,
     "metadata": {},
     "output_type": "execute_result"
    }
   ],
   "source": [
    "mask = np.round(svm.alpha.reshape((-1,)), decimals=2) != 0.0\n",
    "svm.alpha[mask]"
   ]
  },
  {
   "cell_type": "markdown",
   "metadata": {},
   "source": [
    "## 5. Linearni kernel sa regularizacijom\n",
    "\n",
    "U ovom odeljku posmatramo šta se dešava kada na prethodne podatke primenimo metodu nosećih vektora sa regularizacijom.\n",
    "\n",
    "Posmatrajmo primer u kome je konstanta regularizacije premala."
   ]
  },
  {
   "cell_type": "code",
   "execution_count": 9,
   "metadata": {},
   "outputs": [
    {
     "data": {
      "image/png": "[encoded data removed]",
      "text/plain": [
       "<Figure size 864x648 with 1 Axes>"
      ]
     },
     "metadata": {
      "needs_background": "light"
     },
     "output_type": "display_data"
    }
   ],
   "source": [
    "svm = mySVM(kernel=LinearKernel(), C=300, X = X, y=y, tol=0.001, eps=0.001)\n",
    "\n",
    "svm.train()\n",
    "plot_data_and_boundary(X, y, svm, linear=True)"
   ]
  },
  {
   "cell_type": "code",
   "execution_count": 10,
   "metadata": {},
   "outputs": [
    {
     "name": "stdout",
     "output_type": "stream",
     "text": [
      "[[-0.38823583 -0.39982458]\n",
      " [ 0.00167893 -0.71183757]\n",
      " [-0.79457677  0.25975418]\n",
      " [ 0.00307998 -0.62387124]]\n",
      "[[  5.70887831]\n",
      " [282.10269424]\n",
      " [ 12.18842745]\n",
      " [300.        ]]\n"
     ]
    }
   ],
   "source": [
    "mask = np.round(svm.alpha.reshape((-1,)), decimals=2) != 0.0\n",
    "print(svm.X[mask,:])\n",
    "print(svm.alpha[mask,:])"
   ]
  },
  {
   "cell_type": "markdown",
   "metadata": {},
   "source": [
    "Vidimo da je algoritam iskoristio datu slobodu i napravio jednu grešku. Ovo se dešava jer su optimalne vrednosti veće od konstante regularizacije (što smo videli u primeru bez regularizacije). Korišćenje regularizacije onda kada je klase moguće poptuno odvojiti može da dovede do na prvi pogled lošijeg klasifikatora. Ipak, naš klasifikator se ponaša kao da je ovaj jedan netačno klasifikovan odbirak izuzetak i to može da bude vrlo razumna pretpostavka (koju bismo proverili na nekom validacionom skupu).  \n",
    "\n",
    "Dole je prikazan rezultat klasifikacije kada povećamo konstantu regularizacije.\n",
    "\n"
   ]
  },
  {
   "cell_type": "code",
   "execution_count": 11,
   "metadata": {},
   "outputs": [
    {
     "data": {
      "image/png": "[encoded data removed]",
      "text/plain": [
       "<Figure size 864x648 with 1 Axes>"
      ]
     },
     "metadata": {
      "needs_background": "light"
     },
     "output_type": "display_data"
    }
   ],
   "source": [
    "svm = mySVM(kernel=LinearKernel(), C=1000, X = X, y=y, tol=0.001, eps=0.001)\n",
    "\n",
    "svm.train()\n",
    "plot_data_and_boundary(X, y, svm, linear=True)"
   ]
  },
  {
   "cell_type": "markdown",
   "metadata": {},
   "source": [
    "U ovom primeru su vektori dvodimenzioni, pa je moguće grafički prikazati rezultate i na osnovu toga podešavati konstantu regularizacije. U opštem slučaju to ne mora da važi. Tada bi ona mogla da se odredi unakrsnom validacijom. \n",
    "\n",
    "Iako velika konstanta regularizacije omogućava klasifikaciju bez greške, nije nerazumno pretpostaviti da odbirak koji smo pogrešno klasifikovali predstavlja odbirak koji odstupa od ostalih. Ako bismo ga tako shvatili, tada rešenje sa malom konstantom regularizacije može zapravo da bude bolja opcija. Ovo bi se najlakše proverilo na nekom validacionom skupu. Ovde, nažalost, radimo sa jako malim brojem podataka, pa nije baš očigledno kako treba shvatiti ovaj primer."
   ]
  },
  {
   "cell_type": "markdown",
   "metadata": {},
   "source": [
    "## 6. Podaci koji nisu linearno separabilni\n",
    "\n",
    "U ovom odeljku posmatramo šta se dešava kada imamo podatke koji nisu linearno separabilni."
   ]
  },
  {
   "cell_type": "code",
   "execution_count": 12,
   "metadata": {},
   "outputs": [
    {
     "data": {
      "image/png": "[encoded data removed]",
      "text/plain": [
       "<Figure size 864x648 with 1 Axes>"
      ]
     },
     "metadata": {
      "needs_background": "light"
     },
     "output_type": "display_data"
    }
   ],
   "source": [
    "X, y = read_standardize_split_data(\"svmData_nls.txt\", 2)\n",
    "svm = mySVM(kernel=GaussianKernel(sigma=1), C=float('inf'), X = X, y=y, tol=0.0001, eps=0.001)\n",
    "\n",
    "svm.train()\n",
    "plot_data_and_boundary(X, y, svm, linear=False)"
   ]
  },
  {
   "cell_type": "markdown",
   "metadata": {},
   "source": [
    "Vidimo da Gausov kernel bez regularizacije daje odlične rezultate. Nijedan odbirak nije pogrešno klasifikovan, a dobijena granica izgleda onako kako bi većina ljudi nacrtala."
   ]
  },
  {
   "cell_type": "code",
   "execution_count": 13,
   "metadata": {},
   "outputs": [
    {
     "data": {
      "text/plain": [
       "1592"
      ]
     },
     "execution_count": 13,
     "metadata": {},
     "output_type": "execute_result"
    }
   ],
   "source": [
    "svm.totalNumChanged"
   ]
  },
  {
   "cell_type": "code",
   "execution_count": 14,
   "metadata": {},
   "outputs": [
    {
     "data": {
      "text/plain": [
       "94060"
      ]
     },
     "execution_count": 14,
     "metadata": {},
     "output_type": "execute_result"
    }
   ],
   "source": [
    "svm.totalIterations"
   ]
  },
  {
   "cell_type": "markdown",
   "metadata": {},
   "source": [
    "Bilo je pokušaja da se koristi polinomijalni kernel različitog stepena, ali rezultati su jako loši. Polinomijalni kerneli generišu granice odluke koje su oblika hiperbola, i to uopšte ne odgovara podacima."
   ]
  },
  {
   "cell_type": "markdown",
   "metadata": {},
   "source": [
    "## 7. Zaključak\n",
    "\n",
    "Implementirani algoritam i metoda nosećih vektora se sjajno pokazuju na linearno separabilnim podacima. Ideja iza metode nosećih vektora je geometrijska za razliku od logističke regresije koja je statistička. Algoritam opisan u Platt-ovom radu je jako brz čak i kada se implementira u Python-u, a opet je prilično jednostavan. Videli smo i da je broj koraka dosta manji od broja parova koji se razmatraju. \n",
    "\n",
    "Kernel trik nam daje veoma jednostavan način da klasifikujemo podatke i onda kada granice nisu linearne. Na osnovu izraza za odluku vidimo da je dovoljno čuvati samo noseće vektore i njihove parametre za donošenje nove odluke. Ovo je uglavnom dobro jer je broj nosećih vektora jako mali. Ipak, to ne mora uvek biti slučaj, pogotovo ako su podaci višedimenzioni, i tada predviđanje izlaza može da bude jako numerički zahtevno.\n",
    "\n",
    "Ono što je velika mana ovog algoritma je jako teško određivanje parametra regularizacije i kernela. Kada ovaj parametar ili kernel nisu izabrani kako treba algoritam jako sporo konvergira. Ovo je u implementaciji rešeno tako što se algoritam prekida kada broj iteracija postane preveliki. \n"
   ]
  },
  {
   "cell_type": "code",
   "execution_count": null,
   "metadata": {},
   "outputs": [],
   "source": []
  }
 ],
 "metadata": {
  "kernelspec": {
   "display_name": "Python 3",
   "language": "python",
   "name": "python3"
  },
  "language_info": {
   "codemirror_mode": {
    "name": "ipython",
    "version": 3
   },
   "file_extension": ".py",
   "mimetype": "text/x-python",
   "name": "python",
   "nbconvert_exporter": "python",
   "pygments_lexer": "ipython3",
   "version": "3.8.3"
  }
 },
 "nbformat": 4,
 "nbformat_minor": 4
}
