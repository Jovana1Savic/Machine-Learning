{
 "cells": [
  {
   "cell_type": "markdown",
   "metadata": {},
   "source": [
    "### <center> Elektrotehnicki fakultet Univerzitet u Beogradu </center> ###\n",
    "\n",
    "![alt text](grb.jfif \"Title\")\n",
    "\n",
    "## <center> Masinsko ucenje </center> ##\n",
    "# <center>Domaći zadatak - Logistička regresija</center> #\n",
    "\n",
    "#### <center>Jovana Savic 2020/3423</center> ####"
   ]
  },
  {
   "cell_type": "markdown",
   "metadata": {},
   "source": [
    "## 1. Postavka problema\n",
    "\n",
    "### Podaci ###\n",
    "\n",
    "U datoteci *multiclass_data.csv* su podaci iz obučavajuceg skupa za jedan klasifikacioni problem. Prvih pet kolona predstavljaju vrednosti obeležja, dok je u poslednjoj koloni oznaka klase.\n",
    "\n",
    "### Zadatak ###\n",
    "\n",
    "Podatke treba klasifikovati primenom:\n",
    "- Logističke regresije\n",
    "- Softmax regresije\n",
    "- Generativnih algoritama"
   ]
  },
  {
   "cell_type": "markdown",
   "metadata": {},
   "source": [
    "U fajlu `util.py` se nalazi funkcija koja se koristi za učitavanje i standardizaciju podataka, koja će ujedno i podatke odmah podeliti na obučavajući i testirajući skup."
   ]
  },
  {
   "cell_type": "code",
   "execution_count": 4,
   "metadata": {},
   "outputs": [],
   "source": [
    "import util\n",
    "X_train, X_test, y_train, y_test = util.read_standardize_split_data(\"multiclass_data.csv\")"
   ]
  },
  {
   "cell_type": "markdown",
   "metadata": {},
   "source": [
    "## 2. Logistička regresija\n",
    "\n",
    "Logistička funkcija se definiše formulom:\n",
    "\n",
    "$$ h(x) = \\sigma (\\theta^Tx) = \\frac{1}{1+e^{-\\theta^Tx}} $$\n",
    "\n",
    "Ovom funkcijom definišemo verovatnoću da je izlaz za dato $x$ jednak jedinici. \n",
    "\n",
    "Logaritam verodostojnosti za obučavajući skup je tada:\n",
    "\n",
    "$$ l(\\theta) = \\sum_{i=1}^m y^{(i)} \\log (h(x^{(i)}) +(1-y^{(i)}) \\log (1 - h(x^{(i)})) $$\n",
    "\n",
    "Izvod ove funkcije je:\n",
    "\n",
    "$$ \\frac{\\partial l}{\\partial \\theta}=\\sum_{i=1}^m (y^{(i)}-h(x^{(i)}))x^{(i)} $$\n",
    "\n",
    "Ovo može da se napiše kao:\n",
    "\n",
    "$$ \\frac{\\partial l}{\\partial \\theta}=X^T(y-h(X))=X^T(y-\\sigma(X\\theta))$$\n",
    "\n",
    "Korak za gradijent je dat formulom:\n",
    "\n",
    "$$ \\theta := \\theta + \\alpha \\frac{\\partial l}{\\partial \\theta}$$\n",
    "\n",
    "U ovom slučaju koristimo šaržni gradijentni spust.\n",
    "\n",
    "U konkretnom problemu imamo više od dve klase i u tom slučaju radimo po principu jedan protiv svih, to jest, radimo logističku regresiju za svaku klasu proglašavajući odbirke ostalih klasa drugom klasom. Na kraju odbirak pridružujemo onoj klasi za koju je verovatnoća najveća."
   ]
  },
  {
   "cell_type": "code",
   "execution_count": 7,
   "metadata": {},
   "outputs": [],
   "source": [
    "import numpy as np\n",
    "from sklearn.linear_model import LogisticRegression"
   ]
  },
  {
   "cell_type": "code",
   "execution_count": 8,
   "metadata": {},
   "outputs": [],
   "source": [
    "def sigmoid(x):\n",
    "    return 1 / (1 + np.exp(-x))\n",
    "\n",
    "def cost(theta, X, y):\n",
    "    y_pred = sigmoid(X @ theta)\n",
    "    return -np.sum(y * np.log(y_pred + 1e-6) + (1-y) * np.log(1-y_pred + 1e-6))"
   ]
  },
  {
   "cell_type": "code",
   "execution_count": 9,
   "metadata": {},
   "outputs": [],
   "source": [
    "class MyLogisticRegression:\n",
    "    def __init__(self, X_train, y_train): # TODO: add degree\n",
    "    \n",
    "        self.X = X_train.copy()\n",
    "        self.y = (y_train.copy()).reshape(-1, 1)\n",
    "        \n",
    "        self.n = X_train.shape[1] # num of features\n",
    "        self.m = X_train.shape[0] # num of samples\n",
    "        \n",
    "        self.l = max(y_train) + 1 # num of classes\n",
    "        self.theta = np.random.randn(self.n, self.l)\n",
    "        \n",
    "        \n",
    "    def fit_class(self, l, alpha, max_iterations, eps):\n",
    "        \n",
    "        theta = (self.theta[:, l]).reshape(-1,1)\n",
    "        y = ((self.y == l).astype(int))\n",
    "        costs = []\n",
    "        costs.append(cost(theta, self.X, y))\n",
    "        \n",
    "        for epoch in range(0, max_iterations):\n",
    "            \n",
    "            y_pred = (sigmoid(self.X @ theta)).reshape(-1, 1)\n",
    "            diff = y - y_pred\n",
    "            grad = (self.X.T @ diff)\n",
    "            theta += alpha*grad\n",
    "            costs.append(cost(theta, self.X, y))\n",
    "            \n",
    "            if (abs(costs[-1] - costs[-2]) < eps):\n",
    "                self.theta[:, l] = np.squeeze(theta).copy()\n",
    "                return costs\n",
    "            \n",
    "        print(\"Used maximum number of iterations\")\n",
    "        self.theta[:, l] = np.squeeze(theta).copy()\n",
    "        return costs\n",
    "    \n",
    "    def fit(self, alpha, max_iterations, eps):\n",
    "        costs = []\n",
    "        for l in range(0, self.l):\n",
    "            costs.append(self.fit_class(l, alpha, max_iterations, eps))\n",
    "        \n",
    "        return costs\n",
    "    \n",
    "    def predict(self, X):\n",
    "        \n",
    "        h = sigmoid(X @ self.theta)\n",
    "        y = np.argmax(h, axis=1)\n",
    "        return y\n",
    "    \n",
    "    def reset(self):\n",
    "        self.theta = np.random.randn(self.n, self.l)"
   ]
  },
  {
   "cell_type": "markdown",
   "metadata": {},
   "source": [
    "### 2.1. Preciznost klasifikacije i validacija implementacije"
   ]
  },
  {
   "cell_type": "code",
   "execution_count": 10,
   "metadata": {},
   "outputs": [
    {
     "name": "stdout",
     "output_type": "stream",
     "text": [
      "Tacnost na testirajucem skupu:  0.9629629629629629\n",
      "Tacnost na obucavajucem skupu:  0.9668874172185431\n",
      "Parametri:\n",
      "[[ 2.01846711  1.66762069 -0.04504988  0.64905818  4.17480785]\n",
      " [-2.86458765  3.08032665 -3.96698091 -0.28380125 -3.90999687]\n",
      " [ 0.39079837 -5.91260689  5.83510974  0.99093374 -0.66320168]]\n"
     ]
    }
   ],
   "source": [
    "from sklearn.metrics import accuracy_score\n",
    "\n",
    "lr = MyLogisticRegression(X_train, y_train)\n",
    "costs = lr.fit(alpha=0.1, eps=1e-5, max_iterations=1000)\n",
    "y_test_pred = lr.predict(X_test)\n",
    "y_train_pred = lr.predict(X_train)\n",
    "\n",
    "print(\"Tacnost na testirajucem skupu: \",\n",
    "      accuracy_score(y_test, y_test_pred))\n",
    "print(\"Tacnost na obucavajucem skupu: \",\n",
    "      accuracy_score(y_train, y_train_pred))\n",
    "print(\"Parametri:\")\n",
    "print(lr.theta.T)"
   ]
  },
  {
   "cell_type": "markdown",
   "metadata": {},
   "source": [
    "Vidmo da su rezultati na validacionom skupu praktično isti kao i na obučavajućem što govori da model nije preobučen i da ume da klasifikuje i nove podatke. Konačno, možemo da uporedimo greške koje daje naš model sa onim iz biblioteke (bez regularizacije, pošto i ovde nije korišćena)."
   ]
  },
  {
   "cell_type": "code",
   "execution_count": 11,
   "metadata": {},
   "outputs": [
    {
     "name": "stdout",
     "output_type": "stream",
     "text": [
      "Tacnost na testirajucem skupu:  0.9629629629629629\n",
      "Tacnost na obucavajucem skupu:  0.9668874172185431\n",
      "Parametri: \n",
      "[[ 2.0148986   1.66388123 -0.04489733  0.64968185  4.1655802 ]\n",
      " [-2.85701835  3.06338783 -3.94817487 -0.2793442  -3.8903992 ]\n",
      " [ 0.39549441 -5.95312704  5.86085308  1.00483427 -0.66116536]]\n"
     ]
    }
   ],
   "source": [
    "# Compare with library.\n",
    "lr = LogisticRegression(penalty='none', \n",
    "                        fit_intercept = False,\n",
    "                        multi_class = 'ovr',\n",
    "                        max_iter = 1000,\n",
    "                        tol = 1e-5)\n",
    "lr.fit(X_train, y_train)\n",
    "y_test_pred = lr.predict(X_test)\n",
    "y_train_pred = lr.predict(X_train)\n",
    "print(\"Tacnost na testirajucem skupu: \",\n",
    "      accuracy_score(y_test, y_test_pred))\n",
    "print(\"Tacnost na obucavajucem skupu: \",\n",
    "      accuracy_score(y_train, y_train_pred))\n",
    "print(\"Parametri: \")\n",
    "print(lr.coef_)"
   ]
  },
  {
   "cell_type": "markdown",
   "metadata": {},
   "source": [
    "Rezultati se skoro potpuno preklapaju sa rezultatima funkcije iz `sklearn` biblioteke što znači da je implementacija validna."
   ]
  },
  {
   "cell_type": "markdown",
   "metadata": {},
   "source": [
    "### 2.2. Promene funkcije gubitka u zavisnosti od parametra učenja"
   ]
  },
  {
   "cell_type": "code",
   "execution_count": 12,
   "metadata": {},
   "outputs": [
    {
     "name": "stdout",
     "output_type": "stream",
     "text": [
      "Used maximum number of iterations\n",
      "Used maximum number of iterations\n",
      "Used maximum number of iterations\n",
      "Used maximum number of iterations\n",
      "Used maximum number of iterations\n",
      "Used maximum number of iterations\n"
     ]
    }
   ],
   "source": [
    "import matplotlib.pyplot as plt\n",
    "\n",
    "lr = MyLogisticRegression(X_train, y_train)\n",
    "costs_right = lr.fit(alpha=0.1, eps=1e-5, max_iterations=1000)\n",
    "lr.reset()\n",
    "costs_bigger = lr.fit(alpha=0.5, eps=1e-5, max_iterations=1000)\n",
    "lr.reset()\n",
    "costs_smaller = lr.fit(alpha=0.0001, eps=1e-5, max_iterations=1000)"
   ]
  },
  {
   "cell_type": "code",
   "execution_count": 13,
   "metadata": {},
   "outputs": [
    {
     "data": {
      "image/png": "[encoded data removed]",
      "text/plain": [
       "<Figure size 1296x360 with 3 Axes>"
      ]
     },
     "metadata": {
      "needs_background": "light"
     },
     "output_type": "display_data"
    }
   ],
   "source": [
    "fig = plt.figure(1, figsize=(18, 5))\n",
    "fig.suptitle('Klasa 0 - Kriterijumska funkcija')\n",
    "plt.title(\"Kriterijumska funkcija - klasa 0\")\n",
    "plt.xlabel(\"iteracija\")\n",
    "plt.ylabel(\"Kriterijumska funkcija\")\n",
    "plt.subplot(1, 3, 1)\n",
    "plt.plot(costs_right[0], color=\"blue\", label=\"alpha=0.1\")\n",
    "plt.legend()\n",
    "plt.subplot(1,3, 2)\n",
    "plt.plot(costs_bigger[0], color=\"green\", label=\"alpha=0.5\")\n",
    "plt.legend()\n",
    "plt.subplot(1,3,3)\n",
    "plt.plot(costs_smaller[0], color=\"red\", label=\"alpha=0.001\")\n",
    "plt.legend()\n",
    "plt.show()"
   ]
  },
  {
   "cell_type": "markdown",
   "metadata": {},
   "source": [
    "Skroz levo je prikazan slučaj za izabranu vrednost parametra učenja. Funkcija jako brzo konvergira ka minimumu i sa jako malo iteracija možemo da dobijemo rešenje (čak i to može da se prepolovi ako algoritmu damo veću toleranciju). \n",
    "\n",
    "Slika u sredini prikazuje situaciju u kojoj je parametar $\\alpha$ preveliki. Na početku se jako brzo stiže do malih vrednosti, ali nakon toga vrednost kriterijumske funkcije osciluje jer je korak preveliki. Veliki korak dovodi do toga da kada je funkcija blizu minimuma, promena koju uvedemo bude prevelika i minimum se preskoči, nakon toga, ponovo idemo u pravcu minimuma sa neke druge strane i ponovo ga preskačemo. Ovo se vidi kao oscilacije na grafiku. Na kraju se algoritam završava jer je premašio broj zadatih iteracija, a ne zato što je zaista došao do minimuma (za šta je i dao upozorenje). \n",
    "\n",
    "Na slici desno vidimo kako se algoritam ponaša kada je parametar obučavanja premali. U ovom slučaju se algoritam takođe završio zbog toga što je premašio maksimalan broj iteracija (to vidimo na osnovu upozorenja). Za razliku od prethodnog slučaja, u ovom slučaju bi algoritam došao do minimuma da je imao više iteracija. Očigledno, zbog malog koraka, algoritam jako sporo napreduje. Samo računanje gradijenta nije jeftina operacija kada ima puno podataka, pogotovo kada se koristi šaržni gradijent gde treba uzeti sve podatke, i zato veliki broj iteracija može da bude problem."
   ]
  },
  {
   "cell_type": "code",
   "execution_count": 14,
   "metadata": {},
   "outputs": [
    {
     "data": {
      "image/png": "[encoded data removed]",
      "text/plain": [
       "<Figure size 1296x360 with 3 Axes>"
      ]
     },
     "metadata": {
      "needs_background": "light"
     },
     "output_type": "display_data"
    }
   ],
   "source": [
    "fig = plt.figure(1, figsize=(18, 5))\n",
    "fig.suptitle('Klasa 1 - Kriterijumska funkcija')\n",
    "plt.title(\"Kriterijumska funkcija - klasa 1\")\n",
    "plt.xlabel(\"iteracija\")\n",
    "plt.ylabel(\"Kriterijumska funkcija\")\n",
    "plt.subplot(1, 3, 1)\n",
    "plt.plot(costs_right[1], color=\"blue\", label=\"alpha=0.1\")\n",
    "plt.legend()\n",
    "plt.subplot(1,3, 2)\n",
    "plt.plot(costs_bigger[1], color=\"green\", label=\"alpha=0.5\")\n",
    "plt.legend()\n",
    "plt.subplot(1,3,3)\n",
    "plt.plot(costs_smaller[1], color=\"red\", label=\"alpha=0.001\")\n",
    "plt.legend()\n",
    "plt.show()"
   ]
  },
  {
   "cell_type": "code",
   "execution_count": 15,
   "metadata": {},
   "outputs": [
    {
     "data": {
      "image/png": "[encoded data removed]",
      "text/plain": [
       "<Figure size 1296x360 with 3 Axes>"
      ]
     },
     "metadata": {
      "needs_background": "light"
     },
     "output_type": "display_data"
    }
   ],
   "source": [
    "fig = plt.figure(1, figsize=(18, 5))\n",
    "fig.suptitle('Klasa 2 - Kriterijumska funkcija')\n",
    "plt.title(\"Kriterijumska funkcija - klasa 2\")\n",
    "plt.xlabel(\"iteracija\")\n",
    "plt.ylabel(\"Kriterijumska funkcija\")\n",
    "plt.subplot(1, 3, 1)\n",
    "plt.plot(costs_right[2], color=\"blue\", label=\"alpha=0.1\")\n",
    "plt.legend()\n",
    "plt.subplot(1,3, 2)\n",
    "plt.plot(costs_bigger[2], color=\"green\", label=\"alpha=0.5\")\n",
    "plt.legend()\n",
    "plt.subplot(1,3,3)\n",
    "plt.plot(costs_smaller[2], color=\"red\", label=\"alpha=0.001\")\n",
    "plt.legend()\n",
    "plt.show()"
   ]
  },
  {
   "cell_type": "markdown",
   "metadata": {},
   "source": [
    "Kriterijumska funkcija se malo razlikuje u zavisnosti od klase, ali ima slične vrednosti minimuma. Kao što možemo da vidimo sa slika, parametar obučavanja različito utiče na kriterijumske funkcije."
   ]
  },
  {
   "cell_type": "markdown",
   "metadata": {},
   "source": [
    "## 3. Softmax regresija\n",
    "\n",
    "Smatramo da željeni izlaz ima multinomijalnu raspodelu, to jest:\n",
    "\n",
    "$$ y=\\left(\\begin{array}{c}1\\ 2\\ ... \\ k\\\\ \\phi_1 \\ \\phi_2 \\ ... \\ \\phi_k\\end{array}\\right)$$\n",
    "\n",
    "gde $\\phi_k$ nije nezavisan parametar jer suma verovatnoća treba da bude jednaka jedinici.\n",
    "\n",
    "\n",
    "Neka je matrica $ \\Theta=[\\theta_1 \\ \\theta_2 \\ ... \\ \\theta_k]$ matrica koja transformise odbirak u logite:\n",
    "\n",
    "$$x^T \\Theta=\\eta $$\n",
    "\n",
    "Definišemo softmax transformaciju red-vektora kao:\n",
    "\n",
    "$$\\sigma(\\eta) = [\\phi_1 \\ \\phi_2 \\ ... \\ \\phi_k] $$\n",
    "\n",
    "gde je \n",
    "\n",
    "$$\\phi_i = \\frac{e^{\\eta_i}}{\\sum_{j=1}^{k}e^{\\eta_j}} $$\n",
    "\n",
    "Deljenje nam omogućava da dobijemo vrednosti za $\\phi$ koje su u opsegu između 0 i 1, a očigledno njihov zbir daje jedinicu. Parametar $\\theta_k$ nije nezavisan jer ni $\\phi_k$ nije nezavisno. Jedna opcija je da postavimo $\\theta_k=0$ i računamo gradijent za ostale komponente, i da verovatnoću $\\phi_k$ nalazimo oduzimanjem sume ostalih verovatnoća od jedinice. Druga opcija je da dozvolimo da i $\\theta_k$ menja vrednosti (što će biti posledica promene drugih verovatnoća, pa samim tim i verovatnoće $\\phi_k$, a samim tim i $\\theta_k$). Ovaj drugi način omogućava da gradijent i donošenje odluke dosta uprostimo i predstavimo operacijama sa matricama (`numpy` je posebno prilagođena radu sa matricama i na ovaj način mogu da se iskoriste prednosti koje postoje).\n",
    "\n",
    "Kada je u pitanju donošenje odluke, odluku donosimo tako što odbirak pridružujemo klasi za koju je verovatnoća najveća. Zgodno je što primena softmax transformacije zapravo ne menja poredak u red-vektoru logita, kolona u kojoj je maksimalan logit je takođe ona u kojoj će i verovatnoća biti maksimalna jer je eksponencijalna funkcija strogo rastuća. Prema tome, donošenje odluke može da se donese na osnovu logita, bez računanja softmax transformacije.\n",
    "\n",
    "Neka je sa $L$ oznacena kriterijumska funkcija koju zelimo da minimizujemo. Nju minimizujemo tako sto menjamo vrednosti parametara $\\theta_{ij}$. Prema tome, potrebno je odrediti njen izvod po matrici $\\Theta$. \n",
    "\n",
    "Ovaj izvod je oblika:\n",
    "\n",
    "$$ \\large \\frac{\\partial L}{\\partial \\Theta}=\\begin{bmatrix}\n",
    "    \\frac{\\partial L}{\\partial \\theta_{11}} & \\frac{\\partial L}{\\partial \\theta_{12}}  & \\dots  & \\frac{\\partial L}{\\partial \\theta_{1k}} \\\\\n",
    "    \\vdots & \\vdots  & \\ddots & \\vdots \\\\\n",
    "    \\frac{\\partial L}{\\partial \\theta_{n1}} & \\frac{\\partial L}{\\partial \\theta_{n2}} & \\dots  &\\frac{\\partial L}{\\partial \\theta_{nk}}\n",
    "\\end{bmatrix}$$\n",
    "\n",
    "Imamo da je\n",
    "\n",
    "$$ \\frac{\\partial L}{\\partial \\theta_{ij}}=\\sum_{k}\\frac{\\partial L}{\\partial \\eta_k}\\frac{\\partial \\eta_k}{\\partial \\theta_{ij}} $$\n",
    "\n",
    "Kako je $\\eta_k=x^T \\theta_{:,k}$ parcijalni izvodi po $\\theta_{ij}$ su nula za svako $k \\neq j$.\n",
    "\n",
    "Ovim dobijamo:\n",
    "\n",
    "$$ \\frac{\\partial L}{\\partial \\theta_{ij}}=\\frac{\\partial L}{\\partial \\eta_j}\\frac{\\partial \\eta_j}{\\partial \\theta_{ij}}=\\frac{\\partial L}{\\partial \\eta_j}x_i$$\n",
    "\n",
    "gde je $x_i$ $i$-ta komponenta vektora $x$. \n",
    "\n",
    "Izvod kriterijumske funkcije po vektoru $\\eta$ je:\n",
    "\n",
    "$$ \\frac{\\partial L}{\\partial \\eta}=\\left[\\frac{\\partial L}{\\partial \\eta_1} \\ \\dots \\frac{\\partial L}{\\partial \\eta_k} \\right]$$\n",
    "\n",
    "pa gornji izvod po matrici $\\Theta$ mozemo da upakujemo u:\n",
    "\n",
    "$$ \\frac{\\partial L}{\\partial \\Theta}=x\\frac{\\partial L}{\\partial \\eta} $$\n",
    "\n",
    "Logaritam verodostojnosti za jedan odbirak je dat izrazom:\n",
    "\n",
    "$$ l(\\Theta, x^{(i)}, y^{(i)}) = \\log \\phi_{y^{(i)}} $$\n",
    "\n",
    "Ovaj izraz moze da se transformise u:\n",
    "\n",
    "$$ l(\\Theta, x^{(i)}, y^{(i)}) = \\eta_{y^{(i)}} - \\log \\sum_{j=1}^{k} e^{\\eta_j} $$\n",
    "\n",
    "Gradijent kriterijumske funkcije po $\\eta_l$ je:\n",
    "\n",
    "$$ \\frac{\\partial l}{\\partial \\eta_l}=\\frac{\\partial \\eta_{y^{(i)}}}{\\partial \\eta_l}-\\frac{1}{\\sum_{j=1}^ke^{\\eta_j}} \\sum_{j=1}^{k}\\frac{\\partial e^{\\eta_j}}{\\partial \\eta_l} $$\n",
    "\n",
    "Primetimo da je izvod sa leve strane jednak jedinici ako je $y^{(i)}=l$ , u suportnom nula, dok je sa desne strane nula za sve članove sume osim $j=l$, pa se dobija:\n",
    "\n",
    "$$ \\frac{\\partial l}{\\partial \\eta_l}=1_{y^{(i)}=l}-\\frac{e^{\\eta_l}}{\\sum_{j=1}^ke^{\\eta_j}} $$\n",
    "\n",
    "Ako sa $y^1$ definisemo red-vektor koji ima jedinicu tamo gde je vrednost $y^{(i)}$ i nule na ostalim mestima, tada možemo da nađemo izvod logaritma verodostojnosti po vektoru $\\eta$ kao:\n",
    "\n",
    "$$ \\frac{\\partial L}{\\partial \\eta}=y^1-\\sigma(\\eta) $$\n",
    "\n",
    "gde smo sa $\\sigma$ označili softmax funkciju.\n",
    "\n",
    "Konačno, možemo da zamenimo vrednost izvoda po $\\eta$ u izraz za izvod po $\\Theta$ i dobijamo:\n",
    "\n",
    "$$ \\frac{\\partial L}{\\partial \\Theta}=x(y^1-\\sigma(\\eta))$$\n",
    "\n",
    "Izvedeni izraz važi za funkciju gubitka na jednom odbirku. Ukupan gubitak je suma gubitaka po svim odbircima: \n",
    "\n",
    " $$ \\frac{\\partial L}{\\partial \\Theta}=\\sum_{i=1}^{m}x^{(i)}(y^1-\\sigma(\\eta))^{(i)}$$\n",
    "\n",
    "Ako definišemo da softmax transformacija može da se primeni na matrici tako što se primenjuje posebno na svaki red i ako umesto vektora $y^1$ koristimo matricu $Y$ u kojoj jedan red odgovara vektoru $y^1$ na odgovarajućem odbirku možemo da pišemo:\n",
    "\n",
    "$$ \\frac{\\partial L}{\\partial \\Theta}=X^T(Y-\\sigma(X\\Theta))$$"
   ]
  },
  {
   "cell_type": "markdown",
   "metadata": {},
   "source": [
    "### 3.1. Implementacija\n",
    "\n",
    "U nastavku je data implementacija softmax regresije gde se koristi gradijentni spust sa mini šaržama za određivanje parametara."
   ]
  },
  {
   "cell_type": "code",
   "execution_count": 50,
   "metadata": {},
   "outputs": [],
   "source": [
    "from numpy import linalg as LA\n",
    "\n",
    "def cost(logits,y):\n",
    "    \n",
    "    Y = logits[np.arange(len(logits)),y] \n",
    "    cost = - Y + np.log(np.sum(np.exp(logits),axis=1))    \n",
    "    return np.sum(cost)\n",
    "\n",
    "def grad_softmax(logits,reference_answers):\n",
    "    \n",
    "    Y = np.zeros_like(logits)\n",
    "    Y[np.arange(len(logits)),reference_answers] = 1\n",
    "    \n",
    "    softmax = np.exp(logits) / np.exp(logits).sum(axis=-1,keepdims=True)\n",
    "    \n",
    "#     return (- Y + softmax) / logits.shape[0]\n",
    "    return (-Y + softmax)\n",
    "   \n",
    "def iterate_minibatches(inputs, targets, batchsize, shuffle=True):\n",
    "    assert len(inputs) == len(targets)\n",
    "    if shuffle:\n",
    "        indices = np.random.permutation(len(inputs))\n",
    "    for start_idx in range(0, len(inputs) - batchsize + 1, batchsize):\n",
    "        if shuffle:\n",
    "            excerpt = indices[start_idx:start_idx + batchsize]\n",
    "        else:\n",
    "            excerpt = slice(start_idx, start_idx + batchsize)\n",
    "        yield inputs[excerpt], targets[excerpt]\n",
    "        \n",
    "class mySoftmax:\n",
    "    def __init__(self, X_train, y_train):\n",
    "        self.X = X_train.copy()\n",
    "        self.y = y_train.copy()\n",
    "        \n",
    "        self.n = X_train.shape[1] #num of features\n",
    "        self.m = X_train.shape[0] #num of samples\n",
    "        self.k = max(y_train) + 1 #num of classes\n",
    "        \n",
    "        self.theta = np.random.randn(self.n, self.k)\n",
    "        self.momentum = np.zeros_like(self.theta)\n",
    "        \n",
    "    def predict(self, X_test):\n",
    "        logits = X_test @ self.theta\n",
    "        return np.argmax(logits, axis=1)\n",
    "    \n",
    "    def fit_theta(self, X_batch, y_batch, alpha):\n",
    "        old_theta = self.theta.copy()\n",
    "        logits = X_batch @ self.theta\n",
    "        dl = grad_softmax(logits, y_batch)\n",
    "        d_theta = X_batch.T @ dl\n",
    "#         self.momentum = eta * self.momentum + alpha * d_theta\n",
    "#         self.theta -= self.momentum\n",
    "        self.theta -= alpha * d_theta\n",
    "        \n",
    "    def fit(self, batch_size, alpha, max_iterations, eps):\n",
    "        \n",
    "        costs = []\n",
    "        logits = self.X @ self.theta\n",
    "        costs.append(softmax(logits, self.y))\n",
    "        \n",
    "        for epoch in range(max_iterations):\n",
    "\n",
    "            for x_batch,y_batch in iterate_minibatches(\n",
    "                    self.X,self.y,batchsize=batch_size,shuffle=True):\n",
    "                \n",
    "                self.fit_theta(x_batch,y_batch, alpha)\n",
    "            \n",
    "                logits = self.X @ self.theta   \n",
    "                costs.append(cost(logits, self.y))\n",
    "            if (abs(costs[-1] - costs[-2]) < eps):\n",
    "                return costs\n",
    "        \n",
    "        print(\"Maximum number of iterations used\")\n",
    "        return costs\n",
    "    \n",
    "    def reset(self):\n",
    "        self.theta = np.random.randn(self.n, self.k)\n",
    "        self.momentum = np.zeros_like(self.theta)"
   ]
  },
  {
   "cell_type": "markdown",
   "metadata": {},
   "source": [
    "### 3.2. Preciznost klasifikacije i validnost implementacije"
   ]
  },
  {
   "cell_type": "code",
   "execution_count": 72,
   "metadata": {},
   "outputs": [
    {
     "name": "stdout",
     "output_type": "stream",
     "text": [
      "Tacnost na testirajucem skupu:  1.0\n",
      "Tacnost na obucavajucem skupu:  0.9801324503311258\n",
      "Parametri:\n",
      "[[ 2.36749099  0.73950247  1.33501308  1.65353705  1.5992045 ]\n",
      " [-0.14644161  0.67102572 -2.71477988  0.83621786 -2.2164626 ]\n",
      " [ 1.54557418 -2.29121135  2.21114618  0.49046495  0.31126735]]\n"
     ]
    }
   ],
   "source": [
    "s = mySoftmax(X_train, y_train)\n",
    "costs = s.fit(batch_size=16, alpha=0.001, eps=1e-6, max_iterations=2000)\n",
    "y_test_pred = s.predict(X_test)\n",
    "y_train_pred = s.predict(X_train)\n",
    "\n",
    "print(\"Tacnost na testirajucem skupu: \",\n",
    "      accuracy_score(y_test, y_test_pred))\n",
    "print(\"Tacnost na obucavajucem skupu: \",\n",
    "      accuracy_score(y_train, y_train_pred))\n",
    "print(\"Parametri:\")\n",
    "print(s.theta.T)"
   ]
  },
  {
   "cell_type": "markdown",
   "metadata": {},
   "source": [
    "Prikazano rešenje daje jako dobre rezultate na validacionom skupu."
   ]
  },
  {
   "cell_type": "markdown",
   "metadata": {},
   "source": [
    "### 3.3. Promene funkcije gubitka u zavisnosti veličine šarža"
   ]
  },
  {
   "cell_type": "code",
   "execution_count": 74,
   "metadata": {},
   "outputs": [
    {
     "name": "stdout",
     "output_type": "stream",
     "text": [
      "Maximum number of iterations used\n"
     ]
    }
   ],
   "source": [
    "s = mySoftmax(X_train, y_train)\n",
    "costs_right = s.fit(batch_size=16, alpha=0.001, eps=1e-4, max_iterations=2000)\n",
    "s.reset()\n",
    "costs_bigger = s.fit(batch_size=150, alpha=0.001, eps=1e-4, max_iterations=2000)\n",
    "s.reset()\n",
    "costs_smaller = s.fit(batch_size=1, alpha=0.001, eps=1e-4, max_iterations=2000)"
   ]
  },
  {
   "cell_type": "code",
   "execution_count": 76,
   "metadata": {},
   "outputs": [
    {
     "data": {
      "image/png": "[encoded data removed]",
      "text/plain": [
       "<Figure size 1296x360 with 3 Axes>"
      ]
     },
     "metadata": {
      "needs_background": "light"
     },
     "output_type": "display_data"
    }
   ],
   "source": [
    "fig = plt.figure(1, figsize=(18, 5))\n",
    "fig.suptitle('Kriterijumska funkcija')\n",
    "plt.xlabel(\"iteracija\")\n",
    "plt.ylabel(\"Kriterijumska funkcija\")\n",
    "plt.subplot(1, 3, 1)\n",
    "plt.plot(costs_right, color=\"blue\", label=\"batch_size=16\")\n",
    "plt.legend()\n",
    "plt.subplot(1,3, 2)\n",
    "plt.plot(costs_bigger, color=\"green\", label=\"batch_size=100\")\n",
    "plt.legend()\n",
    "plt.subplot(1,3,3)\n",
    "plt.plot(costs_smaller, color=\"red\", label=\"batch_size=1\")\n",
    "plt.legend()\n",
    "plt.show()"
   ]
  },
  {
   "cell_type": "markdown",
   "metadata": {},
   "source": [
    "Na slici iznad je prikazano kako se kriterijumska funkcija menja nakon svake promene $\\Theta$. Zbog toga jedna iteracija nije u svakom slučaju ista. Jedna iteracija sa veličinom 100 i veličinom 16 ili 1 se značajno razlikuju po tome koliko su numerički zahtevne. Prema tome, iako je broj promena parametara najmanji onda kada koristimo skoro sve podatke, svaka od njih traje dosta duže jer su i matrice koje se množe mnogo veće. Svakako, što je veći skup podataka, to je i gradijent veći (obzirom da sabiramo sve vrednosti), pa je i korak koji se pravi veći i kriterijumska funkcija brže opada. Sa druge strane, što je manje podataka korišćeno za računanje gradijenta, to je njegova vrednost manje objektivna (a kako sabiramo gradijent za svaki podatak) i korak je taman manji u tom slučaju. \n",
    "\n",
    "Povećavanje parametra `batch_size` značajno povećava ukupan broj prolazaka kroz sve podatke. Tako, kada koristimo 16 odbiraka, prolazimo kroz 40 000 odbiraka, dok u slučaju u kom je veličina 100, prolazimo kroz 200 000 odbiraka, pre nego što dostignemo minimum. \n",
    "\n",
    "Funkcija koju minimizujemo ima samo jedan minimum, pa nesigurnost koju unosimo time što ne koristimo sve odbirke za računanje gradijenta ne predstavlja toliki problem, a rezultuje algoritmom koji se mnogo brže izvršava. "
   ]
  },
  {
   "cell_type": "markdown",
   "metadata": {},
   "source": [
    "## 3. Gausovska diskriminantna analiza\n",
    "\n",
    "Gausovska diskriminantna analiza se bazira na tome da se odredi raspodela ulazne promenljive za svaku od klasa kojoj $y$ može da pripada. Pretpostavka je da odbirci imaju normalnu raspodelu. Ako sa $M_l$ i $\\Sigma_l$ označimo matematičko očekivanje i kovarijacionu matricu odbiraka koji pripadaju $l$-toj klasi, tada je verovatnoća dobijanja odbirka $x$ tako da on pripada $l$-toj klasi data izrazom:\n",
    "\n",
    "$$ p(x|y=l) = \\frac{1}{(2 \\pi)^{n/2} |\\Sigma_l|^{1/2}} \\exp \\left( -\\frac{1}{2} (X-M_l)^T \\Sigma_l^{-1} (X-M_l)\\right) $$\n",
    "\n",
    "Verovatnoća klase $l$ pod uslovom $x$ je na osnovu Bajesove teoreme proporcionalna:\n",
    "\n",
    "$$ Pr(l|x) \\propto Pr(x|y=l)Pr(y=l) $$\n",
    "\n",
    "Donošenje odluke podrazumeva pridruživanje odbirka $x$ onoj klasi za koju je gornja verovatnoća maksimalna."
   ]
  },
  {
   "cell_type": "markdown",
   "metadata": {},
   "source": [
    "### 3.1. Implementacija"
   ]
  },
  {
   "cell_type": "code",
   "execution_count": 77,
   "metadata": {},
   "outputs": [],
   "source": [
    "from math import pi\n",
    "\n",
    "def NormalDistribution(x, M, Sigma):\n",
    "    n = M.shape[0]\n",
    "    p = 1 / (((2 * pi) ** n) * (np.linalg.det(Sigma) ** 0.5))\n",
    "    p *= np.exp(-0.5 * ((x-M).T @ np.linalg.inv(Sigma + 1e-6) @ (x-M)))\n",
    "    return p\n",
    "    \n",
    "class myQDA:\n",
    "    def __init__(self, X_train, y_train):\n",
    "        self.X = X_train\n",
    "        self.y = y_train\n",
    "        \n",
    "        self.n = X_train.shape[1] # num of features\n",
    "        self.m = X_train.shape[0] # num of samples\n",
    "        \n",
    "        self.l = max(y_train) + 1 # num of classes\n",
    "        self.M = []\n",
    "        self.Sigma = []\n",
    "        self.prob = []\n",
    "        \n",
    "    def fit(self):\n",
    "        \n",
    "        for i in range(self.l):\n",
    "            self.M.append(np.mean(self.X[self.y==i, :], axis=0).T)\n",
    "            self.Sigma.append(np.cov(self.X[self.y==i, :].T))\n",
    "            self.prob.append(np.count_nonzero(self.y==i) / self.m)\n",
    "            \n",
    "    def predict(self, X_test):\n",
    "        \n",
    "        probabilities = np.zeros((X_test.shape[0], self.l))\n",
    "        for i in range(X_test.shape[0]):\n",
    "            for j in range(self.l):\n",
    "                probabilities[i, j] = NormalDistribution(X_test[i].T, self.M[j], self.Sigma[j]) * self.prob[j]\n",
    "        \n",
    "        y_pred = np.argmax(probabilities, axis=1)\n",
    "        return y_pred"
   ]
  },
  {
   "cell_type": "markdown",
   "metadata": {},
   "source": [
    "### 3.2. Preciznost i validnost implementacije"
   ]
  },
  {
   "cell_type": "code",
   "execution_count": 78,
   "metadata": {},
   "outputs": [
    {
     "name": "stdout",
     "output_type": "stream",
     "text": [
      "Tačnost na testirajucem skupu:  0.9629629629629629\n"
     ]
    }
   ],
   "source": [
    "qda = myQDA(X_train, y_train)\n",
    "qda.fit()\n",
    "y_pred = qda.predict(X_test)\n",
    "print('Tačnost na testirajucem skupu: ',\n",
    "      accuracy_score(y_pred, y_test))"
   ]
  },
  {
   "cell_type": "code",
   "execution_count": 79,
   "metadata": {},
   "outputs": [
    {
     "name": "stdout",
     "output_type": "stream",
     "text": [
      "Tačnost na testirajucem skupu:  0.9629629629629629\n"
     ]
    }
   ],
   "source": [
    "# Compare with library function.\n",
    "\n",
    "from sklearn.discriminant_analysis import QuadraticDiscriminantAnalysis\n",
    "\n",
    "qda = QuadraticDiscriminantAnalysis(store_covariance=True).fit(X_train, y_train)\n",
    "y_pred = qda.predict(X_test)\n",
    "print('Tačnost na testirajucem skupu: ',\n",
    "      accuracy_score(y_pred, y_test))"
   ]
  },
  {
   "cell_type": "markdown",
   "metadata": {},
   "source": [
    "Rezultati su isti kao u biblioteci, prema tome, implementacija je validna. Dato rešenje daje dobre rezultate na testirajućem skupu."
   ]
  },
  {
   "cell_type": "markdown",
   "metadata": {},
   "source": [
    "## 4. Naivni Bajesov klasifikator\n",
    "\n",
    "Naivni Bajesov klasifikator je jako sličan Gausovskoj diskriminantnoj analizi kada imamo kontinulane ulaze, razlika je u tome što u ovom slučaju smatramo da su komponente međusobno nezavisne. Za svaku komponentu i klasu određujemo raspodelu i verovatnoća klase $l$ pod uslovom $x$ je proporcionalna:\n",
    "\n",
    "$$ Pr(l|X) \\propto Pr(x_1|y=l)Pr(x_2|y=l) \\dots Pr(x_n|y=l)Pr(y=l) $$"
   ]
  },
  {
   "cell_type": "markdown",
   "metadata": {},
   "source": [
    "### 4.1. Implementacija"
   ]
  },
  {
   "cell_type": "code",
   "execution_count": 80,
   "metadata": {},
   "outputs": [],
   "source": [
    "def Norm(x, m, sigma):\n",
    "    return 1 / (sigma * (2 * pi) ** 0.5) * np.exp(-0.5 * ((x-m)/sigma) ** 2)\n",
    "    \n",
    "class myBayesNaive:\n",
    "    def __init__(self, X_train, y_train):\n",
    "        self.X = X_train\n",
    "        self.y = y_train\n",
    "        \n",
    "        self.n = X_train.shape[1] # num of features\n",
    "        self.m = X_train.shape[0] # num of samples\n",
    "        \n",
    "        self.l = max(y_train) + 1 # num of classes\n",
    "        self.M = np.zeros((self.n, self.l))\n",
    "        self.Sigma = np.zeros((self.n, self.l))\n",
    "        self.prob = np.zeros((self.l,1))\n",
    "        \n",
    "    def fit(self):\n",
    "        \n",
    "        for i in range(self.n):\n",
    "            for j in range(self.l):\n",
    "                self.M[i, j] = np.mean(self.X[self.y==j, i])\n",
    "                self.Sigma[i, j]=np.std(self.X[self.y==j, i])\n",
    "        \n",
    "        for i in range(self.l):\n",
    "            self.prob[i] = np.count_nonzero(self.y==i) / self.m\n",
    "            \n",
    "    def predict(self, X_test):\n",
    "        \n",
    "        probabilities = np.zeros((X_test.shape[0], self.l))\n",
    "        for i in range(X_test.shape[0]):\n",
    "            for j in range(self.l):\n",
    "                probabilities[i, j] = self.prob[j]\n",
    "                for k in range(self.n):\n",
    "                    probabilities[i, j] *= Norm(X_test[i, k], self.M[k, j], self.Sigma[k, j])\n",
    "        \n",
    "        y_pred = np.argmax(probabilities, axis=1)\n",
    "        return y_pred"
   ]
  },
  {
   "cell_type": "markdown",
   "metadata": {},
   "source": [
    "### 3.2. Preciznost i validnost implementacije"
   ]
  },
  {
   "cell_type": "code",
   "execution_count": 81,
   "metadata": {},
   "outputs": [
    {
     "name": "stdout",
     "output_type": "stream",
     "text": [
      "Tačnost na testirajucem skupu:  1.0\n"
     ]
    }
   ],
   "source": [
    "b = myBayesNaive(X_train, y_train)\n",
    "b.fit()\n",
    "y_pred = b.predict(X_test)\n",
    "print('Tačnost na testirajucem skupu: ',\n",
    "      accuracy_score(y_pred, y_test))"
   ]
  },
  {
   "cell_type": "code",
   "execution_count": 82,
   "metadata": {},
   "outputs": [
    {
     "name": "stdout",
     "output_type": "stream",
     "text": [
      "Tačnost na testirajućem skupu:  1.0\n"
     ]
    }
   ],
   "source": [
    "# Compare with library\n",
    "from sklearn.naive_bayes import GaussianNB\n",
    "gnb = GaussianNB().fit(X_train, y_train)\n",
    "\n",
    "y_pred = gnb.predict(X_test)\n",
    "print('Tačnost na testirajućem skupu: ',\n",
    "      accuracy_score(y_pred, y_test))"
   ]
  },
  {
   "cell_type": "markdown",
   "metadata": {},
   "source": [
    "Implementacija je validna. Vidimo da ovaj model daje malo bolju tačnost na testirajućem skupu nego prethodni."
   ]
  },
  {
   "cell_type": "markdown",
   "metadata": {},
   "source": [
    "## 5. Zaključak\n",
    "\n",
    "Dobijene tačnosti na testirajućim skupovima su jako slične, a u nekim slučajevima i iste. Doduše, treba imati u vidu da valdiacioni skup nema mnogo odbiraka, pa činjenica da neki model ima malo manju tačnost ne mora nužno da znači da je zaista gori. Svakako, svaki od prikazanih alata je dao zadovoljavajuće rezultate na testirajućem skupu. \n",
    "\n",
    "Ukoliko je potrebno odlučiti se za konkretan model, Gausovska diskriminantna analiza deluje kao najbolja opcija zbog toga što nije potrebno podešavati nikakve hiper-parametre. "
   ]
  },
  {
   "cell_type": "code",
   "execution_count": null,
   "metadata": {},
   "outputs": [],
   "source": []
  }
 ],
 "metadata": {
  "kernelspec": {
   "display_name": "Python 3",
   "language": "python",
   "name": "python3"
  },
  "language_info": {
   "codemirror_mode": {
    "name": "ipython",
    "version": 3
   },
   "file_extension": ".py",
   "mimetype": "text/x-python",
   "name": "python",
   "nbconvert_exporter": "python",
   "pygments_lexer": "ipython3",
   "version": "3.8.3"
  }
 },
 "nbformat": 4,
 "nbformat_minor": 4
}
