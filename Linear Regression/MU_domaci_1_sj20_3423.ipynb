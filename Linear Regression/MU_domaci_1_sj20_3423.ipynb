{
  "nbformat": 4,
  "nbformat_minor": 0,
  "metadata": {
    "kernelspec": {
      "display_name": "Python 3",
      "language": "python",
      "name": "python3"
    },
    "language_info": {
      "codemirror_mode": {
        "name": "ipython",
        "version": 3
      },
      "file_extension": ".py",
      "mimetype": "text/x-python",
      "name": "python",
      "nbconvert_exporter": "python",
      "pygments_lexer": "ipython3",
      "version": "3.8.3"
    },
    "colab": {
      "name": "MU domaci 1 sj20_3423.ipynb",
      "provenance": [],
      "collapsed_sections": [
        "hULfM8tQZz6k",
        "sQ7x-FYcZz60",
        "Lxp38nc6Zz7E"
      ]
    }
  },
  "cells": [
    {
      "cell_type": "markdown",
      "metadata": {
        "id": "eqBP9ofaZz52"
      },
      "source": [
        "### <center> Elektrotehnički fakultet </center>\n",
        "### <center> Univerzitet u Beogradu </center> ###\n",
        "\n",
        "<div align=\"center\"> \n",
        "<img src=\"https://lh3.googleusercontent.com/proxy/aL-UbmtpbawY3p2sXepN0zGlcVd_sA_GKWF9vO0wupU-ycNMK4x2pM4xbrRi6fSqB2OQnlmgOICZ2wvW_iBBlsyCVIdmvpyggu-vIdv-FVxNhYCQTBvw0w\" width=\"200\"></div>\n",
        "\n",
        "\n",
        "\n",
        "## <center> Masinsko ucenje </center> ##\n",
        "# <center>Domaći zadatak - Linearna regresija</center> #\n",
        "\n",
        "\n",
        "#### <center> Jovana Savic 2020/3423 </center>"
      ]
    },
    {
      "cell_type": "markdown",
      "metadata": {
        "id": "F_GM7NpAZz54"
      },
      "source": [
        "## 1. Postavka problema\n",
        "\n",
        "### Podaci ###\n",
        "\n",
        "U datoteci *data.csv* su podaci iz obučavajuceg skupa za jedan regresioni problem. Format datoteke je sledeći:\n",
        "- prvih 5 kolona su prediktori\n",
        "- poslednja kolona je ciljna promenljiva\n",
        "- svaka vrsta predstavlja jedan obučavajući primer\n",
        "\n",
        "### Zadatak ###\n",
        "\n",
        "\n",
        "Treba napraviti što bolji model zavisnosti između prediktora i ciljne promenljive koristeći alate kao što su:\n",
        "\n",
        "- Linearna, odnosno polinomijalna regresija\n",
        "- lokalno ponderisana linearna regresija\n",
        "- regularizacija (ridge i LASSO)\n",
        "- validacija"
      ]
    },
    {
      "cell_type": "markdown",
      "metadata": {
        "id": "Yob_tJ_kZz54"
      },
      "source": [
        "## 2. Učitavanje, prikaz i centriranje podataka\n",
        "\n",
        "Učitavanje i prikazivanje podataka se može uraditi korišćenjem *pandas* biblioteke. Kako su ulazni vektori veličine 5, ne mogu se predstaviti grafički, pa se predstava o ulaznim podacima i željenom izlazu može dobiti na osnovu statističkih parametara kao što je npr. srednja vrednost."
      ]
    },
    {
      "cell_type": "code",
      "metadata": {
        "id": "uJjBnE3RZz55"
      },
      "source": [
        "import pandas as pd\n",
        "import numpy as np"
      ],
      "execution_count": 1,
      "outputs": []
    },
    {
      "cell_type": "code",
      "metadata": {
        "id": "Ltgl8xUxZz58",
        "outputId": "7ee0240d-142a-42b7-b4b0-7e5f8b2ff6d5",
        "colab": {
          "base_uri": "https://localhost:8080/",
          "height": 297
        }
      },
      "source": [
        "file_path = file_path = \"https://raw.githubusercontent.com/JovanaSavic94/Machine-Learning/main/data.csv\"\n",
        "\n",
        "header_list = ['x1', 'x2', 'x3', 'x4', 'x5', 'y']\n",
        "features = header_list[0:5]\n",
        "\n",
        "_data = pd.read_csv(file_path, header=None, names=header_list) \n",
        "_data.describe()"
      ],
      "execution_count": 2,
      "outputs": [
        {
          "output_type": "execute_result",
          "data": {
            "text/html": [
              "<div>\n",
              "<style scoped>\n",
              "    .dataframe tbody tr th:only-of-type {\n",
              "        vertical-align: middle;\n",
              "    }\n",
              "\n",
              "    .dataframe tbody tr th {\n",
              "        vertical-align: top;\n",
              "    }\n",
              "\n",
              "    .dataframe thead th {\n",
              "        text-align: right;\n",
              "    }\n",
              "</style>\n",
              "<table border=\"1\" class=\"dataframe\">\n",
              "  <thead>\n",
              "    <tr style=\"text-align: right;\">\n",
              "      <th></th>\n",
              "      <th>x1</th>\n",
              "      <th>x2</th>\n",
              "      <th>x3</th>\n",
              "      <th>x4</th>\n",
              "      <th>x5</th>\n",
              "      <th>y</th>\n",
              "    </tr>\n",
              "  </thead>\n",
              "  <tbody>\n",
              "    <tr>\n",
              "      <th>count</th>\n",
              "      <td>342.000000</td>\n",
              "      <td>342.000000</td>\n",
              "      <td>342.000000</td>\n",
              "      <td>342.000000</td>\n",
              "      <td>342.000000</td>\n",
              "      <td>342.000000</td>\n",
              "    </tr>\n",
              "    <tr>\n",
              "      <th>mean</th>\n",
              "      <td>0.002013</td>\n",
              "      <td>0.000897</td>\n",
              "      <td>0.001310</td>\n",
              "      <td>0.001129</td>\n",
              "      <td>0.002229</td>\n",
              "      <td>153.558480</td>\n",
              "    </tr>\n",
              "    <tr>\n",
              "      <th>std</th>\n",
              "      <td>0.048164</td>\n",
              "      <td>0.047836</td>\n",
              "      <td>0.048029</td>\n",
              "      <td>0.049032</td>\n",
              "      <td>0.048913</td>\n",
              "      <td>78.582238</td>\n",
              "    </tr>\n",
              "    <tr>\n",
              "      <th>min</th>\n",
              "      <td>-0.090275</td>\n",
              "      <td>-0.126781</td>\n",
              "      <td>-0.076395</td>\n",
              "      <td>-0.126097</td>\n",
              "      <td>-0.137767</td>\n",
              "      <td>25.000000</td>\n",
              "    </tr>\n",
              "    <tr>\n",
              "      <th>25%</th>\n",
              "      <td>-0.033960</td>\n",
              "      <td>-0.033216</td>\n",
              "      <td>-0.039493</td>\n",
              "      <td>-0.033249</td>\n",
              "      <td>-0.030072</td>\n",
              "      <td>85.250000</td>\n",
              "    </tr>\n",
              "    <tr>\n",
              "      <th>50%</th>\n",
              "      <td>-0.004589</td>\n",
              "      <td>-0.004321</td>\n",
              "      <td>-0.002592</td>\n",
              "      <td>-0.000609</td>\n",
              "      <td>0.003064</td>\n",
              "      <td>140.500000</td>\n",
              "    </tr>\n",
              "    <tr>\n",
              "      <th>75%</th>\n",
              "      <td>0.033673</td>\n",
              "      <td>0.027326</td>\n",
              "      <td>0.034309</td>\n",
              "      <td>0.033657</td>\n",
              "      <td>0.032059</td>\n",
              "      <td>216.750000</td>\n",
              "    </tr>\n",
              "    <tr>\n",
              "      <th>max</th>\n",
              "      <td>0.170555</td>\n",
              "      <td>0.152538</td>\n",
              "      <td>0.185234</td>\n",
              "      <td>0.133599</td>\n",
              "      <td>0.135612</td>\n",
              "      <td>341.000000</td>\n",
              "    </tr>\n",
              "  </tbody>\n",
              "</table>\n",
              "</div>"
            ],
            "text/plain": [
              "               x1          x2          x3          x4          x5           y\n",
              "count  342.000000  342.000000  342.000000  342.000000  342.000000  342.000000\n",
              "mean     0.002013    0.000897    0.001310    0.001129    0.002229  153.558480\n",
              "std      0.048164    0.047836    0.048029    0.049032    0.048913   78.582238\n",
              "min     -0.090275   -0.126781   -0.076395   -0.126097   -0.137767   25.000000\n",
              "25%     -0.033960   -0.033216   -0.039493   -0.033249   -0.030072   85.250000\n",
              "50%     -0.004589   -0.004321   -0.002592   -0.000609    0.003064  140.500000\n",
              "75%      0.033673    0.027326    0.034309    0.033657    0.032059  216.750000\n",
              "max      0.170555    0.152538    0.185234    0.133599    0.135612  341.000000"
            ]
          },
          "metadata": {
            "tags": []
          },
          "execution_count": 2
        }
      ]
    },
    {
      "cell_type": "markdown",
      "metadata": {
        "id": "9QcypyEVZz5-"
      },
      "source": [
        "U gornjoj tabeli se vidi da su ulazi definisani za svaki izlaz (nemamo takozvani *missing values* problem), što je odlično. "
      ]
    },
    {
      "cell_type": "code",
      "metadata": {
        "id": "6hB-2iMAZz5_"
      },
      "source": [
        "X = _data[features]\n",
        "y = _data['y']\n",
        "\n",
        "X = (X.to_numpy())\n",
        "y = (y.to_numpy()).T"
      ],
      "execution_count": 3,
      "outputs": []
    },
    {
      "cell_type": "markdown",
      "metadata": {
        "id": "NwvvMhm0Zz6B"
      },
      "source": [
        "$X$ i $y$ su prebačeni u *numpy* objekat da bi se olakšao rad sa njima. "
      ]
    },
    {
      "cell_type": "markdown",
      "metadata": {
        "id": "xwxiw-7ZZz6C"
      },
      "source": [
        "Podaci ce odmah biti podeljeni u trenirajuci i validacioni skup. "
      ]
    },
    {
      "cell_type": "code",
      "metadata": {
        "id": "eDwJ0NNxZz6C"
      },
      "source": [
        "from sklearn.model_selection import train_test_split\n",
        "\n",
        "X_train, X_test, y_train, y_test = train_test_split(X, y, test_size=0.15, random_state=2)"
      ],
      "execution_count": 4,
      "outputs": []
    },
    {
      "cell_type": "markdown",
      "metadata": {
        "id": "POm8abReZz6E"
      },
      "source": [
        "Podaci će biti standardizovani po formuli:\n",
        "\n",
        "$$x_j\\leftarrow\\frac{x_j-\\overline{x_j}}{\\widehat{\\sigma_j}}$$\n",
        "\n",
        "gde je $\\overline{x_j}$ srednja vrednost, a $\\widehat{\\sigma_j}$ standardna devijacija $j$-tog obeležja. \n",
        "\n",
        "Podaci se standardizuju na osnovu srednje vrednosti i standardne devijacije obučavajućeg skupa. Da bi rešenje moglo da se generalizuje za nove validacione podatke formiraćemo klasu za standardizaciju podataka koja ce služiti kao interfejs za standardizaciju."
      ]
    },
    {
      "cell_type": "code",
      "metadata": {
        "id": "6V3A9tRiZz6F"
      },
      "source": [
        "from sklearn.preprocessing import StandardScaler\n",
        "\n",
        "class DataStandardizer:\n",
        "    def __init__(self, X_train):\n",
        "        self.mean = X_train.mean(axis=0)\n",
        "        self.std = X_train.std(axis=0)\n",
        "        \n",
        "        # Built-in standardizer, used to test this class.\n",
        "        self.scaler = StandardScaler().fit(X_train)\n",
        "        \n",
        "    def standardize_data(self, X):\n",
        "        X_ = np.zeros_like(X)\n",
        "        for i in range(0, X.shape[1]):\n",
        "            X_[:, i]= (X[:, i] - self.mean[i]) / self.std[i]\n",
        "    \n",
        "        # Compare with built-in function.\n",
        "        X_scaled = self.scaler.transform(X)\n",
        "        assert np.allclose(X_,X_scaled)\n",
        "        \n",
        "        return X_"
      ],
      "execution_count": 5,
      "outputs": []
    },
    {
      "cell_type": "code",
      "metadata": {
        "id": "HwF_iVdEZz6H"
      },
      "source": [
        "standardizer_input = DataStandardizer(X_train)\n",
        "X_train = standardizer_input.standardize_data(X_train)\n",
        "X_test = standardizer_input.standardize_data(X_test)"
      ],
      "execution_count": 6,
      "outputs": []
    },
    {
      "cell_type": "markdown",
      "metadata": {
        "id": "w0_EXOFmZz6K"
      },
      "source": [
        "Kao poslednje, centriracemo izlazne podatke. I u ovom slučaju se srednja vrednost određuje na osnovu obučavajućeg skupa. "
      ]
    },
    {
      "cell_type": "code",
      "metadata": {
        "id": "hzPjWHZAZz6K",
        "outputId": "abd3bd8c-b887-47d1-8834-ca45cc64a3db",
        "colab": {
          "base_uri": "https://localhost:8080/",
          "height": 0
        }
      },
      "source": [
        "y_train_mean = y_train.mean()\n",
        "y_test = y_test - y_train_mean\n",
        "y_train = y_train - y_train_mean\n",
        "\n",
        "print(y_train.mean())\n",
        "print(y_test.mean())"
      ],
      "execution_count": 7,
      "outputs": [
        {
          "output_type": "stream",
          "text": [
            "-6.468389042781602e-15\n",
            "-1.452387267904516\n"
          ],
          "name": "stdout"
        }
      ]
    },
    {
      "cell_type": "markdown",
      "metadata": {
        "id": "UMBnI7ODZz6M"
      },
      "source": [
        "## 3. Obična linearna i polinomijalna regresija ##\n",
        "\n",
        "### 3.1. Obična linearna regresija ###\n",
        "\n",
        "Obična linearna regresija se u ovom slučaju bazira na hipotezi datom formulom:\n",
        "\n",
        "$$ h_{\\theta}(x^{(i)})=\\theta_0+\\theta_1x_1^{(i)}+...+\\theta_5x_5^{(i)} $$\n",
        "\n",
        "Funkcija gubitka na $i$-tom odbirku je data kao kvadrat greške između hipoteze i stvarne vrednosti izlaza:\n",
        "\n",
        "$$ L(x^{(i)}, y^{(i)}) = (y^{(i)}-h_{\\theta}(x^{(i)}))^2 $$\n",
        "\n",
        "Kriterijumska funkcija je suma funkcije gubitka po svim odbircima. \n",
        "\n",
        "$$ J(\\theta) =\\sum_{i=1}^{m} (y^{(i)}-h_{\\theta}(x^{(i)}))^2 $$\n",
        "\n",
        "Navedena kriterijumska funkcija je logična i intuitivna - potrebno je minimizirati sumu kvadrata grešaka koje se prave. Ona, takođe, ima i probabilističku interpretaciju. Naime, ukoliko bi se smatralo da je dati izlaz jednak hipotezi i nekoj greški koja ima Normalnu raspodelu, a potiče od šuma i eventualno izostavljenih obeležja, i, ukoliko bi se sa tom pretpostavkom nalazio vektor $\\theta$ koji će maksimizirati verovatnoću dobijenih izlaza (metod maksimalne verodostojnosti) ispostavilo bi se da je potrebno minimizirati upravo ovu kriterijumsku funkciju. \n",
        "\n",
        "Ako matricu $X$ proširimo napred kolonom jedinica$^1$, dobijamo sledeći oblik kriterijumske funkcije:\n",
        "\n",
        "$$ J(\\theta) = (X \\theta - y)^T(X \\theta - y) $$\n",
        "\n",
        "Minimizacija ima analitičko rešenje i optimalno $\\theta$ je:\n",
        "\n",
        "$$ \\theta^* = (X^TX)^{-1}X^Ty $$\n",
        "\n",
        "$^1$Pošto su podaci i izlazi centrirani, u konkretnom slucaju, ne moramo da dodajemo kolonu jedinica jer ce $\\theta_0$ biti jednako srednjoj vrednosti, sto je za centrirane izlaze praktično nula.\n",
        "\n",
        "### 3.2. Polinomijalna regresija ###\n",
        "\n",
        "Polinomijalna regresija se može svesti na običnu linearnu regresiju dodavanjem lažnih prediktora. Svaki novi stepen linearne regresije se formira dodavanjem novih lažnih prediktora na prediktore koji odgovaraju onima koji su u vezi sa polinomijalnom regresijom jednog stepena manje (prediktori za red polinoma jedan su kao kod obične linearne regresije). Ukoliko se dodaju prediktori stepena $p$ tada je potrebno dodati lažne prediktore (sa desne strane u vidu kolona) tako da oni pokrivaju sve kombinacije umnožaka čiji je ukupan stepen $p$.\n",
        "\n",
        "Dodaju se kolone u kojima su lažni prediktori oblika:\n",
        "\n",
        "$$ x_1^{r_1} x_2^{r_2} ... x_n^{r_n} $$\n",
        "\n",
        "gde stepenovanje podrazumeva stepenovanje svakog elementa u koloni orginalnih prediktora. Pri tome uzimamo sve kombinacije $r_1, r_2, ... , r_n$ za koje važi:\n",
        "\n",
        "$$ \\sum_{i=1}^{n}r_i=p $$\n",
        "\n",
        "Kako su ovo kombinacije sa ponavljanjem, uvođenje $p$-tog red polinoma uvodi $ \\left(\\begin{array}{c}p+n-1\\\\p\\end{array}\\right) $ novih lažnih prediktora.\n",
        "\n",
        "Prema tome, kako se stepen polinoma kojim aproksimiramo zeljeni izlaz povecava, broj novih obelezja, tj. velicina vektora $\\theta$ raste jako brzo. \n"
      ]
    },
    {
      "cell_type": "code",
      "metadata": {
        "id": "VMUIQR7NZz6N",
        "outputId": "f8109ee7-8d13-4fd9-a462-d267b20a8eda",
        "colab": {
          "base_uri": "https://localhost:8080/",
          "height": 0
        }
      },
      "source": [
        "X_train.shape[0]"
      ],
      "execution_count": 8,
      "outputs": [
        {
          "output_type": "execute_result",
          "data": {
            "text/plain": [
              "290"
            ]
          },
          "metadata": {
            "tags": []
          },
          "execution_count": 8
        }
      ]
    },
    {
      "cell_type": "markdown",
      "metadata": {
        "id": "P7zVGQ7zZz6P"
      },
      "source": [
        "Kako je broj podataka koji su na raspolaganju prilično mali, odmah možemo da procenimo gornju granicu za stepen polinoma. Ako u unakrsnoj validaciji koristimo 5 strukova, efektivno obučavanje se dešava na 232 podataka. Prema tome, ukoliko model koristi 232 ili više obeležja, sigurno će doći do preobučavanja.\n",
        "\n",
        "Za polinom četvrtog stepena imamo 126 prediktora, a za polinom petog stepena već 256. Prema tome, nema smisla proveravati red polinoma veći od 4 onda kada nemamo nikavu regularizaciju jer je broj obeležja veći od broja parametara, pa će fitovanje da se svede na rešavanje jednačine i doći će do preobučavanja."
      ]
    },
    {
      "cell_type": "markdown",
      "metadata": {
        "id": "ETMtdYDYZz6P"
      },
      "source": [
        "Ispod je implementacija klase koja transformise matricu $X$ tako da moze da se koristi u polinomijalnoj regresiji. Ova klasa je urađena po ugledu na onu iz *sklearn* biblioteke i kao što može da se vidi rezultati se porede sa onima koje proizvodi bibliotečna funkcija."
      ]
    },
    {
      "cell_type": "code",
      "metadata": {
        "id": "FbLW7XdBZz6P"
      },
      "source": [
        "import math\n",
        "from itertools import combinations_with_replacement\n",
        "from sklearn.preprocessing import PolynomialFeatures\n",
        "from scipy.special import comb\n",
        "\n",
        "\n",
        "class PolynomialFitTransform:\n",
        "    def __init__(self, X, bias=False):\n",
        "        \n",
        "        self.X = X.copy()\n",
        "        self.bias = bias\n",
        "        \n",
        "        self.X_ = self.X.copy()\n",
        "        if bias:\n",
        "            self.X_ = np.hstack((np.ones((X.shape[0],1)), self.X_))\n",
        "        \n",
        "        self.degree = 1\n",
        "        \n",
        "    def increase_degree(self):\n",
        "        \"\"\"\n",
        "        Increases degree by one.\n",
        "        \"\"\"\n",
        "        n = self.X.shape[1] # number of predictors.  \n",
        "        self.degree += 1\n",
        "        \n",
        "        new_columns = np.ones((self.X.shape[0], comb(self.degree + n - 1, self.degree, exact=True)))\n",
        "        i=0\n",
        "        for c in combinations_with_replacement([j for j in range(0, n)], self.degree):\n",
        "            for k in c:\n",
        "                new_columns[:,[i]] = np.multiply(new_columns[:, [i]],self.X[:, [k]])\n",
        "            i += 1\n",
        "        \n",
        "        self.X_ = np.hstack((self.X_, new_columns))\n",
        "        \n",
        "        # Compare with library function.\n",
        "        poly_features = PolynomialFeatures(self.degree, include_bias=self.bias)\n",
        "        X_poly_sk = poly_features.fit_transform(self.X)\n",
        "        assert np.allclose(self.X_, X_poly_sk)\n",
        "        \n",
        "    def set_degree(self, new_degree):\n",
        "        \"\"\"\n",
        "        Recalculates transformed X. \n",
        "        \"\"\"\n",
        "        if (new_degree < self.degree):\n",
        "            self.degree = 1\n",
        "            self.X_ = self.X.copy()\n",
        "            if self.bias:\n",
        "                self.X_ = np.hstack((np.ones((self.X.shape[0],1)), self.X_))\n",
        "            \n",
        "        while (new_degree > self.degree):\n",
        "            self.increase_degree()\n",
        "\n",
        "            \n",
        "        # Compare with library function.\n",
        "        poly_features = PolynomialFeatures(degree=self.degree, include_bias=self.bias)\n",
        "        X_poly_sk = poly_features.fit_transform(self.X)\n",
        "        assert np.allclose(self.X_, X_poly_sk)\n",
        "            \n",
        "    def get_poly_fit_transform(self):\n",
        "        return self.X_"
      ],
      "execution_count": 17,
      "outputs": []
    },
    {
      "cell_type": "markdown",
      "metadata": {
        "id": "TtbMd1YWZz6R"
      },
      "source": [
        "U ćeliji ispod je data implementacija polinomijalne regresije. Ova implementacija omogućava i rađenje unakrsne validacije. Model se formira na osnovu skupa parova obučavajućeg skupa. Metoda *fit_data* se koristi da se odrede parametri modela, dok se funkcija *predict* koristi da se odrede izlazi za prosleđene ulazne podatke (podaci se daju u originalnom obliku, a metoda ih transformiše prema odgovarajućem stepenu). Metoda *cross_validation_poly* određuje negativnu srednju kvadratnu grešku na na oba skupa za svaki struk unakrsne validacije i vraća upakovane rezultate (kolona odgovara jednom stepenu polinoma).  "
      ]
    },
    {
      "cell_type": "code",
      "metadata": {
        "id": "-kM0cUcoZz6S"
      },
      "source": [
        "from sklearn.linear_model import LinearRegression\n",
        "from sklearn.model_selection import KFold\n",
        "from sklearn.metrics import mean_squared_error\n",
        "\n",
        "class PolynomialRegressionModel:\n",
        "    \n",
        "    def __init__(self, X_train, y_train, bias=True):\n",
        "        \"\"\"\n",
        "        Creates polynomial regression model. By deafult it's a polynomial of order 1.\n",
        "        \"\"\"\n",
        "        self.y = y_train.copy()\n",
        "\n",
        "        self.bias = bias\n",
        "        self.poly_transform = PolynomialFitTransform(X_train, bias)\n",
        "        self.theta = np.linalg.pinv(self.poly_transform.X_) @ self.y #pseudo-inverse = inv(X'X)*X'\n",
        "    \n",
        "    def fit_data(self, degree):\n",
        "        \n",
        "        self.poly_transform.set_degree(degree)\n",
        "        self.theta = np.linalg.pinv(self.poly_transform.X_) @ self.y\n",
        "        \n",
        "        #Compare with libary function.\n",
        "        poly_reg = PolynomialFeatures(degree=degree, include_bias=self.bias)\n",
        "        X_poly = poly_reg.fit_transform(self.poly_transform.X)\n",
        "        pol_reg = LinearRegression(fit_intercept=False)\n",
        "        pol_reg.fit(X_poly, self.y)\n",
        "        \n",
        "        assert np.allclose(self.poly_transform.X_, X_poly)\n",
        "        assert np.allclose(self.theta, pol_reg.coef_.T)\n",
        "        \n",
        "        return self.theta\n",
        "        \n",
        "    def predict(self, X_test):\n",
        "        \n",
        "        poly = PolynomialFitTransform(X_test)\n",
        "        poly.set_degree(self.poly_transform.degree) # transform X_test to the matrix needed for current degree used.\n",
        "        \n",
        "        y_pred = poly.X_ @ self.theta\n",
        "        \n",
        "        return y_pred\n",
        "    \n",
        "    def predict_and_compare(self, X_test, y_test):    \n",
        "        return y_test - self.predict(X_test)\n",
        "    \n",
        "    def cross_validation_poly_step(self, folds=5):\n",
        "        \n",
        "        train_score = np.zeros((1, folds))\n",
        "        test_score = np.zeros((1, folds))\n",
        "\n",
        "        kf = KFold(n_splits=folds)\n",
        "        kf.get_n_splits(self.poly_transform.X_)\n",
        "\n",
        "        cur_fold = 0\n",
        "        for train_index, test_index in kf.split(self.poly_transform.X_):     \n",
        "\n",
        "            X_train, X_test = self.poly_transform.X_[train_index], self.poly_transform.X_[test_index]\n",
        "            y_train, y_test = self.y[train_index], self.y[test_index]     \n",
        "\n",
        "            theta = np.linalg.pinv(X_train) @ y_train   \n",
        "            y_pred_test = X_test @ theta\n",
        "            y_pred_train = X_train @ theta\n",
        "\n",
        "            test_score[:,cur_fold] = -mean_squared_error(y_test, y_pred_test)\n",
        "            train_score[:,cur_fold] = -mean_squared_error(y_train, y_pred_train)\n",
        "\n",
        "            cur_fold +=1\n",
        "\n",
        "        return train_score, test_score\n",
        "    \n",
        "    def cross_validation_poly(self, max_degree, folds=5):\n",
        "        \n",
        "        train_scores = np.zeros((max_degree, folds))\n",
        "        test_scores = np.zeros((max_degree, folds))\n",
        "        \n",
        "        degree = 1\n",
        "        while degree <= max_degree:\n",
        "            self.poly_transform.set_degree(degree)\n",
        "            train_score, test_score = self.cross_validation_poly_step(folds) \n",
        "            train_scores[[degree-1],:] = train_score\n",
        "            test_scores[[degree-1],:] = test_score\n",
        "            degree += 1\n",
        "            \n",
        "        return train_scores, test_scores"
      ],
      "execution_count": 18,
      "outputs": []
    },
    {
      "cell_type": "markdown",
      "metadata": {
        "id": "JgaTuLY9Zz6U"
      },
      "source": [
        "Konačno, formiramo funkciju koja ce da prikaže rezultate unakrsne validacije. Ova funkcija takođe prikazuje rezultate unakrsne validacije kada se za to koristi bibliotečna funkcija."
      ]
    },
    {
      "cell_type": "code",
      "metadata": {
        "id": "1Yn_tkkyZz6U"
      },
      "source": [
        "from matplotlib import pyplot as plt\n",
        "from sklearn.model_selection import validation_curve\n",
        "from sklearn.pipeline import make_pipeline\n",
        "\n",
        "def cross_validation_poly_plot(X_train, y_train, max_degree, folds, bias):\n",
        "    \n",
        "    myModel= PolynomialRegressionModel(X_train, y_train, bias=bias)\n",
        "\n",
        "    degree = np.arange(1, max_degree+1)\n",
        "    train_scores, test_scores = myModel.cross_validation_poly(max_degree, folds=folds)\n",
        "\n",
        "    train_scores_mean = np.mean(train_scores, axis=1)\n",
        "    train_scores_std = np.std(train_scores, axis=1)\n",
        "    test_scores_mean = np.mean(test_scores, axis=1)\n",
        "    test_scores_std = np.std(test_scores, axis=1)\n",
        "\n",
        "    plt.title(\"Validaciona kriva\")\n",
        "    plt.xlabel(\"stepen polinoma\")\n",
        "    plt.ylabel(\"Skor\")\n",
        "    lw = 2\n",
        "    plt.plot(degree, train_scores_mean, label=\"Trening\",\n",
        "                color=\"darkorange\")\n",
        "    plt.fill_between(degree, train_scores_mean - train_scores_std,\n",
        "                     train_scores_mean + train_scores_std, alpha=0.2,\n",
        "                     color=\"darkorange\")\n",
        "    plt.plot(degree, test_scores_mean, label=\"Validacija\",\n",
        "                 color=\"navy\")\n",
        "    plt.fill_between(degree, test_scores_mean - test_scores_std,\n",
        "                     test_scores_mean + test_scores_std, alpha=0.2,\n",
        "                     color=\"navy\")\n",
        "    plt.legend(loc=\"best\")\n",
        "    plt.show()\n",
        "    \n",
        "    # Compare with built-in function.\n",
        "    model = make_pipeline(PolynomialFeatures(degree=9, include_bias=bias), LinearRegression())\n",
        "    train_scores_sk, test_scores_sk = validation_curve(\n",
        "                        model, X_train, y_train,\n",
        "                        param_name='polynomialfeatures__degree',\n",
        "                        param_range=degree,\n",
        "                        cv=folds,\n",
        "                        scoring='neg_mean_squared_error')\n",
        "        \n",
        "    plt.title(\"Validaciona kriva - sklearn\")\n",
        "    plt.xlabel(\"stepen polinoma\")\n",
        "    plt.ylabel(\"Skor\")\n",
        "    lw = 2\n",
        "    \n",
        "    train_scores_mean = np.mean(train_scores_sk, axis=1)\n",
        "    train_scores_std = np.std(train_scores_sk, axis=1)\n",
        "    test_scores_mean = np.mean(test_scores_sk, axis=1)\n",
        "    test_scores_std = np.std(test_scores_sk, axis=1)\n",
        "    \n",
        "    plt.plot(degree, train_scores_mean, label=\"Trening\",\n",
        "                color=\"darkorange\")\n",
        "    plt.fill_between(degree, train_scores_mean - train_scores_std,\n",
        "                     train_scores_mean + train_scores_std, alpha=0.2,\n",
        "                     color=\"darkorange\")\n",
        "    plt.plot(degree, test_scores_mean, label=\"Validacija\",\n",
        "                 color=\"navy\")\n",
        "    plt.fill_between(degree, test_scores_mean - test_scores_std,\n",
        "                     test_scores_mean + test_scores_std, alpha=0.2,\n",
        "                     color=\"navy\")\n",
        "    plt.legend(loc=\"best\")\n",
        "    plt.show()"
      ],
      "execution_count": 19,
      "outputs": []
    },
    {
      "cell_type": "markdown",
      "metadata": {
        "id": "uVz8bWmzZz6X"
      },
      "source": [
        "Dati kod možemo da iskoristimo da vidimo kako se model ponaša kada menjamo red polinoma."
      ]
    },
    {
      "cell_type": "code",
      "metadata": {
        "id": "FdxJoJpiZz6X",
        "outputId": "c1d7625e-d16e-49dd-8e10-8b8ec6849c53",
        "colab": {
          "base_uri": "https://localhost:8080/",
          "height": 573
        }
      },
      "source": [
        "cross_validation_poly_plot(X_train, y_train, max_degree=4, folds=5, bias=False)"
      ],
      "execution_count": 20,
      "outputs": [
        {
          "output_type": "display_data",
          "data": {
            "image/png": "[encoded data removed]",
            "text/plain": [
              "<Figure size 432x288 with 1 Axes>"
            ]
          },
          "metadata": {
            "tags": [],
            "needs_background": "light"
          }
        },
        {
          "output_type": "display_data",
          "data": {
            "image/png": "[encoded data removed]",
            "text/plain": [
              "<Figure size 432x288 with 1 Axes>"
            ]
          },
          "metadata": {
            "tags": [],
            "needs_background": "light"
          }
        }
      ]
    },
    {
      "cell_type": "markdown",
      "metadata": {
        "id": "azL-vrJJZz6Z"
      },
      "source": [
        "Vidimo da je situacija jako loša za polinom četvrtog reda (prema tome, taj red možemo iskoristi kada radimo regularizaciju). Ponovićemo postupak za polinom do trećeg reda da bi se bolje videlo kakvi su rezultati."
      ]
    },
    {
      "cell_type": "code",
      "metadata": {
        "id": "PpnCLx72Zz6a",
        "outputId": "834633e7-bdd9-48e1-dfde-ae6318242e2b",
        "colab": {
          "base_uri": "https://localhost:8080/",
          "height": 573
        }
      },
      "source": [
        "cross_validation_poly_plot(X_train, y_train, max_degree=3, folds=5, bias=False)"
      ],
      "execution_count": 21,
      "outputs": [
        {
          "output_type": "display_data",
          "data": {
            "image/png": "[encoded data removed]",
            "text/plain": [
              "<Figure size 432x288 with 1 Axes>"
            ]
          },
          "metadata": {
            "tags": [],
            "needs_background": "light"
          }
        },
        {
          "output_type": "display_data",
          "data": {
            "image/png": "[encoded data removed]",
            "text/plain": [
              "<Figure size 432x288 with 1 Axes>"
            ]
          },
          "metadata": {
            "tags": [],
            "needs_background": "light"
          }
        }
      ]
    },
    {
      "cell_type": "markdown",
      "metadata": {
        "id": "RsBTtGHqZz6c"
      },
      "source": [
        "Očigledno, red polinoma za koji su rezultati najbolji je jedan, odnosno, najbolje je koristiti običnu linearnu regresiju."
      ]
    },
    {
      "cell_type": "code",
      "metadata": {
        "id": "uzr20f1DZz6c",
        "outputId": "d2f29785-f46a-4708-82cd-cc73f30e2947",
        "colab": {
          "base_uri": "https://localhost:8080/",
          "height": 0
        }
      },
      "source": [
        "myModel= PolynomialRegressionModel(X_train, y_train, bias=False)\n",
        "myModel.fit_data(degree=1)\n",
        "y_predict = myModel.predict(X_test)\n",
        "\n",
        "print(-mean_squared_error(y_predict, y_test))"
      ],
      "execution_count": 22,
      "outputs": [
        {
          "output_type": "stream",
          "text": [
            "-3650.773228847059\n"
          ],
          "name": "stdout"
        }
      ]
    },
    {
      "cell_type": "code",
      "metadata": {
        "id": "Bjgtpe-eZz6e",
        "outputId": "f2cc6de9-27b0-45f0-e7dd-463801e4c3ad",
        "colab": {
          "base_uri": "https://localhost:8080/",
          "height": 0
        }
      },
      "source": [
        "print(myModel.theta)"
      ],
      "execution_count": 23,
      "outputs": [
        {
          "output_type": "stream",
          "text": [
            "[ 29.20083068 -13.61218951   9.36707509  32.34729844   4.12539692]\n"
          ],
          "name": "stdout"
        }
      ]
    },
    {
      "cell_type": "code",
      "metadata": {
        "id": "n9z6c5tmZz6g",
        "outputId": "d60209b6-894d-4542-d95b-4a949c8810c8",
        "colab": {
          "base_uri": "https://localhost:8080/",
          "height": 0
        }
      },
      "source": [
        "print(\"Srednja vrednost greske: \", (y_test-y_predict).mean())\n",
        "print(\"Standardna devijacija greske: \", (y_test-y_predict).std())"
      ],
      "execution_count": 24,
      "outputs": [
        {
          "output_type": "stream",
          "text": [
            "Srednja vrednost greske:  -6.9594556663228495\n",
            "Standardna devijacija greske:  60.01949021505885\n"
          ],
          "name": "stdout"
        }
      ]
    },
    {
      "cell_type": "code",
      "metadata": {
        "id": "4KrsPTBVZz6j",
        "outputId": "0e98ed91-5155-49bd-9c34-edef8eafae9b",
        "colab": {
          "base_uri": "https://localhost:8080/",
          "height": 265
        }
      },
      "source": [
        "n, bins, patches = plt.hist(x=(y_train-myModel.predict(X_train)), bins='auto', color='#0504aa',\n",
        "                            alpha=0.7, rwidth=0.85)"
      ],
      "execution_count": 25,
      "outputs": [
        {
          "output_type": "display_data",
          "data": {
            "image/png": "[encoded data removed]",
            "text/plain": [
              "<Figure size 432x288 with 1 Axes>"
            ]
          },
          "metadata": {
            "tags": [],
            "needs_background": "light"
          }
        }
      ]
    },
    {
      "cell_type": "markdown",
      "metadata": {
        "id": "hULfM8tQZz6k"
      },
      "source": [
        "### 3.3. Zakljucak\n",
        "\n",
        "Srednja kvadratna greška je dosta slična srednjoj vrednosti srednje kvadratne greške na validacionim skupovima, što znači da nije došlo do preobučavanja, odnosno, naš model radi onako kako predvideli i kada se koriste novi podaci na kojima nije treniran. \n",
        "\n",
        "Rečeno je da je korišćena kriterijumska funkcija ekvivalentna korišćenju principa maksimalne verodostojnosti ukoliko se predpostavi da postoji sledeća veza između ulaza i željenih izlaza:\n",
        "\n",
        "$$y^{(i)}=h_{\\theta}(x^{(i)})+ \\epsilon^{(i)} $$\n",
        "\n",
        "gde je $\\epsilon^{(i)}$ član koji modeluje šum i eventualna obeležja koja nisu uzeta u obzir, a ima Gausovu raspodelu. \n",
        "\n",
        "Na slici iznad je prikazan histogram ove greške (korišćen je test skup jer ima više podataka) i njena raspodela zaista dosta liči na Normalnu raspodelu. Prema tome, možemo da vidimo da je kriterijumska funkcija koju smo koristili u ovom slučaju opravdana. Unakrsna validacija je odredila optimalni red polinoma, a činjenica da je i kriterijumska funkcija razumno izabrana navode na to da, ukoliko bismo bili veoma nezadovoljni rezultatima koje daje model, kao razlog za to bi valjalo razmotriti mogućnost da su neka bitna obeležja izostavljena prilikom prikupljanja podataka. "
      ]
    },
    {
      "cell_type": "markdown",
      "metadata": {
        "id": "C-vovD0WZz6l"
      },
      "source": [
        "## 4. Regularizacija\n",
        "\n",
        "Ideja regularizacije je da se model kazni kada odredjenim parametrima da prevelike vrednosti. Uvodjenjem regularizacije kriterijumska funkcija postaje:\n",
        "\n",
        "$$J(\\theta)=\\sum_{i=1}^{m}(h_{\\theta}(x^{(i)})-y^{(i)})^2 + R(\\theta)$$\n",
        "\n",
        "Pre regularizacije je neophodno standardizovati ulaze, u suprotnom regularizacija neće biti fer. Regularizacija sve parametre podjenako kažnjava ako imaju prevelike vrednosti, a vrednosti parametara između ostalog i zavise od toga koje vrednosti uzima obeležje sa kojim rade, pa ako ta obeležja imaju raličite opsege, regularizacija neće biti fer. Kako su podaci standardizovani i centrirani na početku, to ovde nije problem.\n",
        "\n",
        "### 4.1. Grebena (ridge) regresija\n",
        "\n",
        "U slucaju grebene regresije, regularizaciona funkcija je data formulom:\n",
        "\n",
        "$$ R_2(\\theta) = \\lambda \\sum_{i=1}^{n}\\theta_i^2$$\n",
        "\n",
        "Ukoliko su podaci i izlazi centrirani, parametar $\\theta_0$ će biti nula, pa se može izbaciti iz kriterijumske funkcije koja se onda lako minimizuje i dobijamo optimalnu vrednost $\\theta$ u formi:\n",
        "\n",
        "$$ \\theta^*=(X^TX+\\lambda I)^{-1}X^Ty$$\n",
        "\n",
        "gde se podrazumeva da $X$ i $y$ odgovaraju centriranim ulazima i izlazima.\n",
        "\n",
        "Određivanje parametra $\\lambda$ se može odrediti tako što se pretpostavi da je $\\lambda=0$ nula i potom povećava red polinoma dok ne dođe do očiglednog preobučavanja. Uzima se taj red polinoma i potom radi unakrsna validacija sa različitim vrednostima $\\lambda$ parametra. \n",
        "\n",
        "Gore smo videli da se preobučavanje dešava kada koristimo polinom 4. reda, prema tome, to će da bude i red polinoma sa kojim radimo grebenu regresiju. Dole je data klasa polinomijalnog modela koja je modifikovana tako da koristi ridge regresiju."
      ]
    },
    {
      "cell_type": "code",
      "metadata": {
        "id": "2jEETnAuZz6l"
      },
      "source": [
        "from sklearn.linear_model import Ridge\n",
        "\n",
        "class PolynomialRegressionModelRidge:\n",
        "    \n",
        "    def __init__(self, X_train, y_train, degree):\n",
        "        \"\"\"\n",
        "        Creates polynomial regression model. By deafult it's a polynomial of order 1.\n",
        "        \"\"\"\n",
        "        self.y = y_train.copy()\n",
        "\n",
        "        self.poly_transform = PolynomialFitTransform(X_train, bias=False)\n",
        "        self.poly_transform.set_degree(degree)\n",
        "        self.theta = None\n",
        "        self.degree = degree\n",
        "        self.alpha = None\n",
        "    \n",
        "    def fit_data(self, alpha, degree=None):\n",
        "        \"\"\"\n",
        "        One can change degree when making a fit, or use the one which it was created with. \n",
        "        \"\"\"\n",
        "        if (degree is not None):\n",
        "            self.degree = degree\n",
        "        self.alpha = alpha\n",
        "        self.poly_transform.set_degree(self.degree)\n",
        "        X = self.poly_transform.X_\n",
        "        \n",
        "        self.theta = np.linalg.inv(X.T @ X + alpha * np.identity(X.shape[1])) @ X.T @ self.y\n",
        "        \n",
        "        #Compare with libary function.\n",
        "        clf = Ridge(alpha=alpha, solver='cholesky', fit_intercept=False)\n",
        "        clf.fit(X, y_train)\n",
        "        assert np.allclose(self.theta, clf.coef_)\n",
        "        \n",
        "        return self.theta\n",
        "        \n",
        "    def predict(self, X_test):\n",
        "        \n",
        "        poly = PolynomialFitTransform(X_test)\n",
        "        poly.set_degree(self.degree) # transform X_test to the matrix needed for current degree used.\n",
        "        \n",
        "        y_pred = poly.X_ @ self.theta\n",
        "        \n",
        "        return y_pred\n",
        "    \n",
        "    def cross_validation_alpha_step(self, folds=5):\n",
        "        \n",
        "        train_score = np.zeros((1, folds))\n",
        "        test_score = np.zeros((1, folds))\n",
        "\n",
        "        kf = KFold(n_splits=folds)\n",
        "        kf.get_n_splits(self.poly_transform.X_)\n",
        "\n",
        "        cur_fold = 0\n",
        "        for train_index, test_index in kf.split(self.poly_transform.X_):     \n",
        "\n",
        "            X_train, X_test = self.poly_transform.X_[train_index], self.poly_transform.X_[test_index]\n",
        "            y_train, y_test = self.y[train_index], self.y[test_index]     \n",
        "            \n",
        "            X = X_train\n",
        "            theta = np.linalg.inv(X.T @ X + self.alpha * np.identity(X.shape[1])) @ X.T @ y_train\n",
        "            \n",
        "            # Compare with libarary function.\n",
        "            clf = Ridge(alpha=self.alpha, solver='cholesky', fit_intercept=False)\n",
        "            clf.fit(X, y_train)\n",
        "            assert np.allclose(theta, clf.coef_)\n",
        "            \n",
        "            y_pred_test = X_test @ theta\n",
        "            y_pred_train = X_train @ theta\n",
        "\n",
        "            test_score[:,cur_fold] = -mean_squared_error(y_test, y_pred_test)\n",
        "            train_score[:,cur_fold] = -mean_squared_error(y_train, y_pred_train)\n",
        "\n",
        "            cur_fold +=1\n",
        "\n",
        "        return train_score, test_score\n",
        "    \n",
        "    def cross_validation_alpha(self, alphas, folds=5):\n",
        "        \n",
        "        train_scores = np.zeros((alphas.shape[0], folds))\n",
        "        test_scores = np.zeros((alphas.shape[0], folds))\n",
        "        \n",
        "        for i, alpha in enumerate(alphas):\n",
        "            self.alpha = alpha\n",
        "            train_score, test_score = self.cross_validation_alpha_step(folds) \n",
        "            train_scores[[i],:] = train_score\n",
        "            test_scores[[i],:] = test_score\n",
        "            \n",
        "        return train_scores, test_scores"
      ],
      "execution_count": 28,
      "outputs": []
    },
    {
      "cell_type": "code",
      "metadata": {
        "id": "FCA7Nt0aZz6n"
      },
      "source": [
        "myModel= PolynomialRegressionModelRidge(X_train, y_train, 4)\n",
        "y=myModel.fit_data(0.01, degree=5)"
      ],
      "execution_count": 29,
      "outputs": []
    },
    {
      "cell_type": "code",
      "metadata": {
        "id": "mUcYY1t_Zz6p"
      },
      "source": [
        "from sklearn.model_selection import cross_val_score\n",
        "\n",
        "def cross_validation_alpha_plot(X_train, y_train, alphas, degree, folds):\n",
        "    \n",
        "    myModel= PolynomialRegressionModelRidge(X_train, y_train, degree)\n",
        "    \n",
        "    _, test_scores = myModel.cross_validation_alpha(alphas, folds=folds)\n",
        "    \n",
        "    test_scores_mean = np.mean(test_scores, axis=1)\n",
        "\n",
        "    plt.title(\"Validaciona kriva\")\n",
        "    plt.xlabel(\"Lambda\")\n",
        "    plt.ylabel(\"Skor\")\n",
        "    lw = 2\n",
        "    plt.plot(alphas, test_scores_mean, label=\"Trening\",\n",
        "                color=\"darkorange\")\n",
        "    plt.show()\n",
        "    \n",
        "    # Compare with built-in function.\n",
        "    X_ = PolynomialFeatures(degree=degree, include_bias=False).fit_transform(X_train)\n",
        "    model = Ridge(fit_intercept=False, solver='cholesky')\n",
        "    _, test_scores_sk = validation_curve(\n",
        "                        model, X_, y_train,\n",
        "                        param_name='alpha',\n",
        "                        param_range=alphas,\n",
        "                        cv=folds,\n",
        "                        scoring='neg_mean_squared_error')\n",
        "        \n",
        "    plt.title(\"Validaciona kriva - sklearn\")\n",
        "    plt.xlabel(\"Lambda\")\n",
        "    plt.ylabel(\"Skor\")\n",
        "    lw = 2\n",
        "    \n",
        "    test_scores_mean = np.mean(test_scores_sk, axis=1)\n",
        "    \n",
        "    plt.plot(alphas, test_scores_mean, label=\"Trening\",\n",
        "                color=\"navy\")\n",
        "    plt.show()"
      ],
      "execution_count": 30,
      "outputs": []
    },
    {
      "cell_type": "code",
      "metadata": {
        "id": "GmD5oYLiZz6r",
        "outputId": "6a80c70b-6c07-40df-a784-3cc48e542363",
        "colab": {
          "base_uri": "https://localhost:8080/",
          "height": 573
        }
      },
      "source": [
        "alphas = np.linspace(1e-3, 50, 30)\n",
        "cross_validation_alpha_plot(X_train, y_train, alphas, degree=4, folds=5)"
      ],
      "execution_count": 31,
      "outputs": [
        {
          "output_type": "display_data",
          "data": {
            "image/png": "[encoded data removed]",
            "text/plain": [
              "<Figure size 432x288 with 1 Axes>"
            ]
          },
          "metadata": {
            "tags": [],
            "needs_background": "light"
          }
        },
        {
          "output_type": "display_data",
          "data": {
            "image/png": "[encoded data removed]",
            "text/plain": [
              "<Figure size 432x288 with 1 Axes>"
            ]
          },
          "metadata": {
            "tags": [],
            "needs_background": "light"
          }
        }
      ]
    },
    {
      "cell_type": "markdown",
      "metadata": {
        "id": "wwW-4oSUZz6u"
      },
      "source": [
        "Vidmo da za $\\lambda$ veće od 20 nema značajnog poboljšavanja rezultata, pa ćemo proveriti kako se model za tu vrednost $\\lambda$ ponaša na validacionom skupu."
      ]
    },
    {
      "cell_type": "code",
      "metadata": {
        "id": "11Ut5d2GZz6u",
        "outputId": "53497417-db43-4f65-b834-1911801ddabf",
        "colab": {
          "base_uri": "https://localhost:8080/",
          "height": 0
        }
      },
      "source": [
        "myModel= PolynomialRegressionModelRidge(X_train, y_train, degree=4)\n",
        "myModel.fit_data(alpha=20)\n",
        "y_pred = myModel.predict(X_test)\n",
        "\n",
        "print(-mean_squared_error(y_predict, y_test))"
      ],
      "execution_count": 32,
      "outputs": [
        {
          "output_type": "stream",
          "text": [
            "-3650.773228847059\n"
          ],
          "name": "stdout"
        }
      ]
    },
    {
      "cell_type": "code",
      "metadata": {
        "id": "Ba-WWo80Zz6w",
        "outputId": "e65eecc5-7aff-4b2a-a78b-57425f698fab",
        "colab": {
          "base_uri": "https://localhost:8080/",
          "height": 0
        }
      },
      "source": [
        "print(myModel.theta)"
      ],
      "execution_count": 33,
      "outputs": [
        {
          "output_type": "stream",
          "text": [
            "[ 2.60235515e+01 -5.68224374e+00  1.01989190e+01  2.33764405e+01\n",
            "  4.09556585e+00  9.68717618e-01 -2.90825665e+00  2.57904967e+00\n",
            "  5.79953497e+00  5.56763540e+00 -5.89808434e+00  6.36086930e-01\n",
            " -1.10796562e+01 -3.31110335e+00 -2.52966168e+00 -9.12941135e+00\n",
            " -2.58754455e-01  3.44058645e+00 -5.00601923e+00  4.56142802e+00\n",
            "  9.96085628e-01 -8.39414408e-01  2.17115421e-01  3.67189595e+00\n",
            " -2.15152315e-01  2.56000578e+00 -1.00066239e+01  4.80507040e+00\n",
            " -2.07559195e+00 -6.93859687e+00 -4.14323623e+00  1.50804804e+00\n",
            "  3.77467295e+00  4.77180716e+00 -2.05114307e+00  1.00706711e-01\n",
            " -4.91961317e+00  3.30063773e+00 -1.03203971e+00 -3.88138943e+00\n",
            "  5.59490622e+00 -3.28782550e+00 -1.80912409e+00 -2.65604603e+00\n",
            "  7.34603165e-01  7.06143090e+00 -2.81066909e-01  2.30729610e+00\n",
            "  1.73081177e+00 -4.31247271e+00  3.45888278e+00  6.26977236e-01\n",
            " -7.41444589e+00  7.26289286e+00 -1.78043557e+00  3.02457889e-01\n",
            " -1.95853723e+00 -3.93768780e+00 -1.39742519e+00  1.74391666e+00\n",
            "  1.17754969e+00  2.39758682e+00  6.75904415e+00 -1.35141383e-01\n",
            "  1.73302522e+00  3.67181276e+00 -3.86157719e+00 -6.36362304e+00\n",
            "  1.48818511e-01 -3.75856108e-01  2.84211851e+00 -5.42112252e+00\n",
            " -2.83252206e+00 -6.45249352e+00 -5.94678151e+00  2.12903771e+00\n",
            "  2.40543857e+00  4.61413098e+00 -6.17730479e+00  1.59539934e+00\n",
            "  3.03284388e+00  2.96753780e+00 -2.16230181e+00  2.07319691e+00\n",
            " -1.66209973e+00  5.69490376e+00  3.83840470e+00 -2.57628824e+00\n",
            " -1.30174053e+00 -2.26024297e+00  1.99919430e+00 -1.60094849e+00\n",
            "  1.81806536e-01  1.98706111e+00  4.37829432e+00 -3.57517024e+00\n",
            "  6.92561453e-01 -2.48157387e+00  3.12052362e+00  6.07542245e-01\n",
            " -1.17946088e+00 -1.57636351e+00 -2.15243623e-01 -1.66284123e+00\n",
            " -2.16095546e-02  2.17202088e+00  7.98827532e+00  5.44450213e+00\n",
            " -1.17136282e+00 -1.42075765e+00 -2.83913305e+00  4.38861093e+00\n",
            "  5.41279899e+00  9.69897350e-01 -1.86324233e+00 -5.66434825e+00\n",
            "  7.07257248e-01 -4.36566946e+00  6.13628165e+00 -2.80874719e+00\n",
            " -2.39014212e+00 -2.28512568e+00 -2.63590757e-01  2.14833269e+00\n",
            "  1.03957669e+00]\n"
          ],
          "name": "stdout"
        }
      ]
    },
    {
      "cell_type": "code",
      "metadata": {
        "id": "JjpitB97Zz6y",
        "outputId": "89162d3c-5506-4469-9fb4-9dca0e335657",
        "colab": {
          "base_uri": "https://localhost:8080/",
          "height": 0
        }
      },
      "source": [
        "print(\"Srednja vrednost greske: \", (y_test-y_predict).mean())\n",
        "print(\"Standardna devijacija greske: \", (y_test-y_predict).std())"
      ],
      "execution_count": 34,
      "outputs": [
        {
          "output_type": "stream",
          "text": [
            "Srednja vrednost greske:  -6.9594556663228495\n",
            "Standardna devijacija greske:  60.01949021505885\n"
          ],
          "name": "stdout"
        }
      ]
    },
    {
      "cell_type": "markdown",
      "metadata": {
        "id": "sQ7x-FYcZz60"
      },
      "source": [
        "### 4.1.1. Zaključak\n",
        "\n",
        "Greška koju dobijamo na validacionom skupu kada koristimo grebenu regresiju je praktično ista kao ona koja se dobija kada koristimo običnu linearnu regresiju. Nije došlo do poboljšanja modela, ali je kompleksnost modela, to jest broj parametara, značajno povećana. U ovom slučaju prednost definitivno ima obična linearna regresija. "
      ]
    },
    {
      "cell_type": "markdown",
      "metadata": {
        "id": "ZSIYdawSZz60"
      },
      "source": [
        "### 4.2. Lasso regularizacija\n",
        "\n",
        "Laso regularizacija je definisana regularizacionom funkcijom:\n",
        "\n",
        "$$ R_1(\\theta) = \\lambda \\sum_{i=1}^{n}|\\theta_i| $$\n",
        "\n",
        "Korisenje LASSO regularizacije je je ekvivalentno minimizacji kriterijumske funkcije pod uslovom $ \\lambda \\sum_{i=1}^{n}|\\theta_i| < t$. Zbog toga je veća verovatnoća da će se pojedine komponente vektora $\\theta$ postaviti na nulu prilikom minimizacije nego kod grebene regresije. \n",
        "\n",
        "Mana ove regularizacije je u tome što je kriterijumska funkcija uvođenjem LASSO regularizacije postala nediferencijabilna, pa se samim tim ne moze naći rešenje u zatvorenoj formi. Zbog toga što funkcija nije diferencijabilna ne može se ni koristiti neka vrsta gradijentnog spusta za minimizaciju, ali je moguće koristiti koordinatni spust ili LASSO algoritam. Koordinatni spust se pokazuje kao brže resenje, a ujedno je i mnogo jednostavnije za implementaciju, osim toga, ovaj algoritam se koristi i u bibliotečnoj funkciji što olakšava proveru, pa će zbog toga biti korišćeno ovde.\n",
        "\n",
        "Ako je funkcija $f(x)=g(x)+\\sum_{i}h_i(x_i)$ i ako je $g(x)$ konveksna i diferencijabilna i svako $h_i$ konveksno, tada se metodom koordinatnog spusta moze pronaci $\\min f(x)$ po $x$. \n",
        "\n",
        "Koordinatni spust se radi tako sto se funkcija minimizuje po svakoj komponenti posebno:\n",
        "\n",
        "$$x_i^{(k)} = \\text{argmin}_{x_i} f(x_1^{(k)},...,x_{i-1}^{(k)}; x_i; x_{i+1}^{(k-1)},..., x_n^{(k-1)}$$\n",
        "\n",
        "U slučaju linearne regresije imamo:\n",
        "\n",
        "$$J(\\theta)=(X\\theta-y)^T(X\\theta-y)+\\lambda\\sum_{i=1}^{n}\\theta_i$$\n",
        "\n",
        "Ako gornji izraz promenimo tako što izvučemo delove koji sadrže $\\theta_i$ tako da je $\\theta$ vektor $\\theta$ gde je $i$-ta komponenta postavljena na nulu i sa $X_i$ označimo $i$-tu kolonu matrice $X$, kriterijumsku funkciju možemo da pišemo:\n",
        "\n",
        "$$ J(\\theta)=(X\\theta+X_i\\theta_i-y)^T(X\\theta + X_i\\theta_i-y)+\\lambda\\sum_{j=1,j \\neq i}^{n}|\\theta_j| + \\lambda|\\theta_i|$$\n",
        "\n",
        "Sređivanjem ovog izraza dobijamo:\n",
        "\n",
        "$$ J(\\theta)=\\theta_iX_i^TX\\theta+\\theta_i^2X_i^TX_i-\\theta_iX_i^Ty+\\theta_i\\theta^TX^TX_i-\\theta_iy^TX_i + \\lambda s_i\\theta_i + C $$\n",
        "\n",
        "gde smo u konstantu $C$ smestili sve one članove koji ne zavise od $\\theta_i$, a $s_i$ uzima vrednosti $-1,1$.\n",
        "\n",
        "Odavde možemo da nađemo izvod po $\\theta_i$:\n",
        "\n",
        "$$ \\frac{\\partial J}{\\partial \\theta_i}=X_i^TX\\theta+2\\theta_iX_i^TX_i-X_i^Ty+\\theta^TX^TX_i-y^TX_i+\\lambda s_i $$\n",
        "\n",
        "Dobijeni rezultat je skalar, kao i svi članovi zbira, pa se svaki član moze transponovati. Na ovaj način se izraz uprošćava i dobija se:\n",
        "\n",
        "$$ \\frac{\\partial J}{\\partial \\theta_i}=X_i^TX\\theta+\\theta_iX_i^TX_i-X_i^Ty+\\lambda s_i $$\n",
        "\n",
        "pri tome je dvojka smestena u $\\lambda$. \n",
        "\n",
        "Diferenciranje apsolutne vrednosti daje:\n",
        "\n",
        "$$ \\theta_i = - \\frac{X_i^T(X\\theta-y)+\\lambda}{X_i^TX_i} , X_i^T(X\\theta-y) < -\\lambda$$\n",
        "$$ \\theta_i = - \\frac{X_i^T(X\\theta-y)-\\lambda}{X_i^TX_i}, X_i^T(X\\theta-y) > \\lambda$$\n",
        "$$ \\theta_i = 0, -\\lambda \\leq X_i^T(X\\theta-y) \\leq \\lambda$$"
      ]
    },
    {
      "cell_type": "code",
      "metadata": {
        "id": "hT1iEi99Zz61"
      },
      "source": [
        "from sklearn.linear_model import Lasso\n",
        "\n",
        "def J(X, theta, y, alpha):\n",
        "    return np.dot(X @ theta - y, X @ theta - y) + alpha * sum(abs(theta))\n",
        "\n",
        "def coordinate_descent(X, y, alpha, eps=1e-5):\n",
        "    \n",
        "    theta = np.random.random(X.shape[1])\n",
        "    num_of_iterations = 0\n",
        "    \n",
        "    while True:\n",
        "        i = num_of_iterations % X.shape[1]\n",
        "        theta_ = np.concatenate([theta[:i], [0], theta[i+1:]])\n",
        "        Xi = X[:,i]      \n",
        "        \n",
        "        ro = Xi.T @ (X @ theta_ - y)\n",
        "        \n",
        "        if (ro < -alpha):\n",
        "            new_theta_i = - ( ro + alpha) / (Xi.T @ Xi)\n",
        "        elif ro > - alpha:\n",
        "            new_theta_i = - ( ro - alpha) / (Xi.T @ Xi)\n",
        "        else:\n",
        "            new_theta_i = 0\n",
        "        \n",
        "        new_theta = np.concatenate([theta[:i], [new_theta_i], theta[i+1:]])\n",
        "        \n",
        "        delta_J = abs(J(X, theta, y, alpha) - J(X, new_theta, y, alpha))\n",
        "        if (delta_J < eps and i == X.shape[1] - 1):\n",
        "            return new_theta\n",
        "        \n",
        "        theta = new_theta\n",
        "        num_of_iterations += 1\n",
        "        if (num_of_iterations > 5000):\n",
        "            print(\"Warning, did not converge after 5000 steps\")\n",
        "            return theta\n",
        "    "
      ],
      "execution_count": 35,
      "outputs": []
    },
    {
      "cell_type": "markdown",
      "metadata": {
        "id": "-gu2vCL0Zz64"
      },
      "source": [
        "Datu implementaciju možemo da uporedimo sa gotovom implementacijom iz *sklearn* biblioteke. "
      ]
    },
    {
      "cell_type": "code",
      "metadata": {
        "id": "bMWp4yr1Zz65",
        "outputId": "b3376cfb-46a5-40c8-8fd3-6841d450177c",
        "colab": {
          "base_uri": "https://localhost:8080/",
          "height": 0
        }
      },
      "source": [
        "poly_transform = PolynomialFitTransform(X_train, bias=False)\n",
        "poly_transform.set_degree(3)\n",
        "X_ = poly_transform.X_\n",
        "\n",
        "eps = 1e-4\n",
        "\n",
        "theta = coordinate_descent(X_, y_train, alpha=0.1, eps=eps)\n",
        "print(theta)\n",
        "\n",
        "clf = Lasso(alpha=0.1, fit_intercept=False, max_iter=5000)\n",
        "clf.fit(X_, y_train)\n",
        "print(clf.coef_)"
      ],
      "execution_count": 36,
      "outputs": [
        {
          "output_type": "stream",
          "text": [
            "Warning, did not converge after 5000 steps\n",
            "[ 34.96889657 -13.12723305  15.57829113  41.47435891  -1.36144236\n",
            "  -1.52025866  -5.51416652   3.57705664  13.13177617  -2.08521543\n",
            "  -1.10178833  -7.0099673    6.61934534   4.74744006  -5.33732085\n",
            "   2.04797075   1.9182201   -2.11297844  -5.88150566   3.00186526\n",
            "   0.63998647  -7.20179555  -4.34916219  -1.97442245   3.65496368\n",
            "   2.61608196 -16.81015145  26.60261861  -1.63494329  -0.78595922\n",
            "  -2.00102147   3.38235021  -5.60298803   0.54661686  -4.67410753\n",
            "   3.3130697   -9.67054262  -4.48023699   0.57665421   1.15644367\n",
            "  12.53233278   6.25218255  -1.40449396  -8.10933402  -2.84687769\n",
            "   2.6582522   -1.44385149   4.49302034   3.64389869  -7.6793183\n",
            "  -2.22123757  -4.09434026  -3.66876268   9.81224723   0.25892434]\n",
            "[ 33.01450417 -13.7548363   12.7668118   42.90496663   0.\n",
            "  -0.94961697  -4.55814367   2.83111535  11.61396175  -1.74563285\n",
            "  -1.2546809   -5.29800716   5.30391125   4.10000841  -6.10837541\n",
            "   2.67046097   1.52071674  -1.79168163  -5.37456911   3.15881373\n",
            "   0.64303353  -5.5835997   -3.38987453  -2.93683066   2.76177668\n",
            "   3.80106976 -14.31046841  20.41966941  -2.84454514  -1.91466171\n",
            "  -0.93236123   1.68372438  -3.26662776   1.1216848   -3.08089743\n",
            "   3.65889836  -8.23754145  -5.55414641  -0.3664487   -0.63169984\n",
            "  10.11027964   4.86134641   0.77183112  -5.49178107  -1.55150936\n",
            "   3.55116444   0.           4.06471785   2.30804738  -4.49840934\n",
            "  -1.95900493  -4.41390315  -4.62914808   7.76160384   0.0971516 ]\n"
          ],
          "name": "stdout"
        }
      ]
    },
    {
      "cell_type": "markdown",
      "metadata": {
        "id": "yqYArzuUZz67"
      },
      "source": [
        "Vidimo da implementirana funkcija daje dosta slične rezultate kao i funkcija iz biblioteke. Ipak, pošto razlika ipak postoji, da bi dalje moglo bez problema da se poredi rezultat sa gotovim, iskoristićemo funkciju iz biblioteke za nalaženje optimalne vrednosti parametra $\\lambda$."
      ]
    },
    {
      "cell_type": "code",
      "metadata": {
        "id": "QKD4tM-gZz67"
      },
      "source": [
        "def cross_validate_LASSO_step(X_, y, alpha, folds):\n",
        "        \n",
        "        train_score = np.zeros((1, folds))\n",
        "        test_score = np.zeros((1, folds))\n",
        "\n",
        "        kf = KFold(n_splits=folds)\n",
        "        kf.get_n_splits(X_)\n",
        "\n",
        "        cur_fold = 0\n",
        "        for train_index, test_index in kf.split(X_):     \n",
        "\n",
        "            X_train, X_test = X_[train_index], X_[test_index]\n",
        "            y_train, y_test = y[train_index], y[test_index]     \n",
        "            \n",
        "            clf = Lasso(alpha=alpha, fit_intercept=False, max_iter=7000)\n",
        "            clf.fit(X_train, y_train)\n",
        "            theta = clf.coef_\n",
        "            \n",
        "            y_pred_test = X_test @ theta\n",
        "            y_pred_train = X_train @ theta\n",
        "\n",
        "            test_score[:,cur_fold] = -mean_squared_error(y_test, y_pred_test)\n",
        "            train_score[:,cur_fold] = -mean_squared_error(y_train, y_pred_train)\n",
        "\n",
        "            cur_fold +=1\n",
        "\n",
        "        return train_score, test_score"
      ],
      "execution_count": 37,
      "outputs": []
    },
    {
      "cell_type": "code",
      "metadata": {
        "id": "_kHoU-6vZz69"
      },
      "source": [
        "def cross_validation_LASSO(X_, y_train, alphas, folds):\n",
        "\n",
        "    train_scores = np.zeros((alphas.shape[0], folds))\n",
        "    test_scores = np.zeros((alphas.shape[0], folds))\n",
        "\n",
        "    for i, alpha in enumerate(alphas):\n",
        "        train_score, test_score = cross_validate_LASSO_step(X_, y_train, alpha, folds)\n",
        "        train_scores[[i],:] = train_score\n",
        "        test_scores[[i],:] = test_score\n",
        "\n",
        "    return train_scores, test_scores"
      ],
      "execution_count": 38,
      "outputs": []
    },
    {
      "cell_type": "code",
      "metadata": {
        "id": "Zqbrij7iZz6_"
      },
      "source": [
        "def cross_validation_LASSO_plot(X_train, y_train, alphas, degree, folds):\n",
        "    \n",
        "    poly_transform = PolynomialFitTransform(X_train, bias=False)\n",
        "    poly_transform.set_degree(degree)\n",
        "    X_ = poly_transform.X_\n",
        "    \n",
        "    _, test_scores = cross_validation_LASSO(X_, y_train, alphas, folds)\n",
        "    \n",
        "    test_scores_mean = np.mean(test_scores, axis=1)\n",
        "\n",
        "    plt.title(\"Validaciona kriva\")\n",
        "    plt.xlabel(\"Lambda\")\n",
        "    plt.ylabel(\"Skor\")\n",
        "    lw = 2\n",
        "    plt.plot(alphas, test_scores_mean, label=\"Trening\",\n",
        "                color=\"darkorange\")\n",
        "    plt.show()\n",
        "    \n",
        "    # Compare with built-in function.\n",
        "    X_ = PolynomialFeatures(degree=degree, include_bias=False).fit_transform(X_train)\n",
        "    model = Lasso(fit_intercept=False)\n",
        "    _, test_scores_sk = validation_curve(\n",
        "                        model, X_, y_train,\n",
        "                        param_name='alpha',\n",
        "                        param_range=alphas,\n",
        "                        cv=folds,\n",
        "                        scoring='neg_mean_squared_error')\n",
        "        \n",
        "    plt.title(\"Validaciona kriva - sklearn\")\n",
        "    plt.xlabel(\"Lambda\")\n",
        "    plt.ylabel(\"Skor\")\n",
        "    lw = 2\n",
        "    \n",
        "    test_scores_mean = np.mean(test_scores_sk, axis=1)\n",
        "    \n",
        "    plt.plot(alphas, test_scores_mean, label=\"Trening\",\n",
        "                color=\"navy\")\n",
        "    plt.show()"
      ],
      "execution_count": 39,
      "outputs": []
    },
    {
      "cell_type": "code",
      "metadata": {
        "id": "XPadafjcZz7A",
        "outputId": "50d17e7b-f44c-4c04-adda-b5f9e52d6c09",
        "colab": {
          "base_uri": "https://localhost:8080/",
          "height": 573
        }
      },
      "source": [
        "alphas = np.linspace(1, 15, 30)\n",
        "cross_validation_LASSO_plot(X_train, y_train, alphas, degree=3, folds=5)"
      ],
      "execution_count": 44,
      "outputs": [
        {
          "output_type": "display_data",
          "data": {
            "image/png": "[encoded data removed]",
            "text/plain": [
              "<Figure size 432x288 with 1 Axes>"
            ]
          },
          "metadata": {
            "tags": [],
            "needs_background": "light"
          }
        },
        {
          "output_type": "display_data",
          "data": {
            "image/png": "[encoded data removed]",
            "text/plain": [
              "<Figure size 432x288 with 1 Axes>"
            ]
          },
          "metadata": {
            "tags": [],
            "needs_background": "light"
          }
        }
      ]
    },
    {
      "cell_type": "markdown",
      "metadata": {
        "id": "px-zFB1eZz7C"
      },
      "source": [
        "Izabran je polinom trećeg stepena jer algoritam ima problem sa konvergencijom za više redove. Sa grafika se vidi da je optimalna vrednost hiper-parametra oko 2.5. Proverićemo kako se model ponaša sa ovim hiper-parametrom na validacionom skupu."
      ]
    },
    {
      "cell_type": "code",
      "metadata": {
        "id": "SRgznWY_Zz7C",
        "outputId": "87ea0be5-02f2-4cff-ff3d-8c82458e40b8",
        "colab": {
          "base_uri": "https://localhost:8080/",
          "height": 0
        }
      },
      "source": [
        "poly_transform = PolynomialFitTransform(X_train, bias=False)\n",
        "poly_transform.set_degree(3)\n",
        "X_ = poly_transform.X_\n",
        "\n",
        "clf = Lasso(alpha=2.5, fit_intercept=False, max_iter=7000)\n",
        "clf.fit(X_, y_train)\n",
        "theta = clf.coef_\n",
        "\n",
        "poly_transform = PolynomialFitTransform(X_test, bias=False)\n",
        "poly_transform.set_degree(3)\n",
        "X_ = poly_transform.X_\n",
        "\n",
        "y_predict = X_ @ theta\n",
        "\n",
        "print(-mean_squared_error(y_predict, y_test))\n",
        "print(\"Srednja vrednost greske: \", (y_test-y_predict).mean())\n",
        "print(\"Standardna devijacija greske: \", (y_test-y_predict).std())\n",
        "print(theta)"
      ],
      "execution_count": 46,
      "outputs": [
        {
          "output_type": "stream",
          "text": [
            "-4188.610311285477\n",
            "Srednja vrednost greske:  -10.932329865463876\n",
            "Standardna devijacija greske:  63.789454261642376\n",
            "[27.14025047 -0.          1.28237279 33.77707629  0.          0.\n",
            "  0.          0.          0.          0.         -0.38787069 -0.\n",
            "  0.          0.         -1.8023507  -0.          0.         -0.\n",
            " -0.          2.49005068  0.36750642 -3.32664168 -0.          0.\n",
            "  0.59169594  0.         -0.2121583   0.         -0.         -0.\n",
            " -0.         -0.          0.         -0.          0.          0.\n",
            " -0.          0.         -0.         -6.54067354  0.         -0.\n",
            " -0.         -0.         -0.          3.41527895  2.99490371  1.34004383\n",
            "  0.         -0.          0.         -2.25782661 -0.3233933   0.\n",
            "  0.81621178]\n"
          ],
          "name": "stdout"
        }
      ]
    },
    {
      "cell_type": "markdown",
      "metadata": {
        "id": "Lxp38nc6Zz7E"
      },
      "source": [
        "### 4.2.1. Zaključak\n",
        "\n",
        "LASSO model je dao malo gore rezultate nego prethodna dva modela. Kao što je očekivano, većina obeležja se ne uzima u obzir. Vidimo da je situacija dosta slična običnoj linearnoj regresiji, prvi i četvrti parametar imaju skoro iste vrednosti i one su za red veličina veće od svih drugih. Dakle, ova dva obeležja su ta koja najviše utiču na izlaz.  "
      ]
    },
    {
      "cell_type": "markdown",
      "metadata": {
        "id": "skHm1v3CZz7E"
      },
      "source": [
        "## 5. Lokalno ponderisana linearna regresija ##\n",
        "\n",
        "Linearno ponderisana linearna regresija se bazira na tome da se pronadje najbolji model za onu tacku u kojoj pokusava da se nadje izlaz. U toj tački se model formira minimizacijom funkcije\n",
        "\n",
        "$$J(\\theta)=\\sum_{i=1}^{m}w^{(i)}(h_{\\theta}(x^{(i)})-y^{(i)})^2$$\n",
        "\n",
        "Pri tome je funkcija težine definisana kao:\n",
        "\n",
        "$$ w^{(i)}=\\exp \\left(-\\frac{(x-x^{(i)})^T(x-x^{(i)})}{2\\tau^2}\\right)$$\n",
        "\n",
        "Ukoliko uvedemo dijagonalnu matricu $D$ na čijoj dijagonali se nalaze težine $w^{(1)},x^{(2)}, ... ,w^{(m)}$ a van nje nule, kriterijumska funkcija se može zapisati kao:\n",
        "\n",
        "$$J(\\theta) = (X\\theta-y)^TD(X\\theta-y)$$\n",
        "\n",
        "Koričćenjem činjenice da je\n",
        "\n",
        "$$\\frac{\\partial (Ax+b)^TC(Dx+e)}{\\partial x}=D^TC^T(Ax+b)+A^TC(Dx+e)$$\n",
        "\n",
        "dobijamo izvod kriterijumske funkcije po parametru $\\theta$\n",
        "\n",
        "$$ \\frac{\\partial J(\\theta)}{\\partial \\theta}=X^TD^T(X\\theta-y)+X^TD(X\\theta-y)$$\n",
        "\n",
        "Kada gornji izraz sredimo (matrica $D$ je simetricna) i izjednačimo sa nulom dobijamo:\n",
        "\n",
        "$$X^TD(X\\theta-y)=0$$\n",
        "\n",
        "Odavde dobijamo optimalno $\\theta$ u zatvorenoj formi:\n",
        "\n",
        "$$\\theta^*=(X^TDX)^{-1}X^TDy$$\n",
        "\n",
        "Kada nađemo optimalnu vrednost $\\theta$ u tački $x$ tada možemo predvideti vrednost izlazne promenljive u toj tački na osnovu hipoteze. \n",
        "\n",
        "Glavna razlika između lokalno ponderisane linearne regresije i obične polinomijalne regresije je u tome što u drugom slučaju, onog trenutka kada napravimo dovoljno dobar model, mozemo da \"zaboravimo\" na podatke koji su korišćeni za obučavanje modela, oni prosto nisu neophodni za predviđanje izlaza. U slučaju lokalno ponderisane linearne regresije, za svaku predikciju su potrebni podaci iz obucavajuceg skupa, cak i onda kada smo našli zadovoljavajuci model (model je prakticno samo vrednost $\\tau$ parametra).\n",
        "\n",
        "Hiper-prarametar modela ćemo takođe odrediti korišćenjem unakrsne validacije. Ispod je data klasa koja implementira lokalno ponderisanu linearnu regresiju."
      ]
    },
    {
      "cell_type": "code",
      "metadata": {
        "id": "-f8PDS3fZz7F"
      },
      "source": [
        "def add_ones(X_train):\n",
        "    X0 = np.ones((X_train.shape[0],1))\n",
        "    X_train_new = np.hstack((X0, X_train))\n",
        "    \n",
        "    return X_train_new\n",
        "\n",
        "class LocallyWeightedLinearRegression:\n",
        "    def __init__(self, X_train, y_train, x_test, y_test, tau):\n",
        "        \n",
        "        self.X = add_ones(X_train)\n",
        "        self.y = y_train.copy()\n",
        "        \n",
        "        self.X_pred = add_ones(x_test)\n",
        "        self.y_test = y_test.copy()\n",
        "        self.y_pred = np.zeros_like(y_test)\n",
        "        \n",
        "        self.tau = tau\n",
        "        \n",
        "    def weights(self, x): # x row vector!\n",
        "        w = np.exp(-(np.linalg.norm(x-self.X, axis=1)**2)/(2*self.tau**2))\n",
        "        D = np.diag(w)\n",
        "        return D\n",
        "    \n",
        "    def model_at(self, x): \n",
        "        D = self.weights(x)\n",
        "        theta = np.linalg.inv(self.X.T @ D @ self.X) @ self.X.T @ D @ self.y \n",
        "        y = x @ theta\n",
        "        return y\n",
        "    \n",
        "    def predictions_test(self):\n",
        "        for i in range(0, self.X_pred.shape[0]):\n",
        "            self.y_pred[i] = self.model_at(self.X_pred[[i],:])\n",
        "        return self.y_pred\n",
        "    \n",
        "    def predictions_train(self):\n",
        "        y_pred_train = np.zeros_like(self.y)\n",
        "        for i in range(0, self.X.shape[0]):\n",
        "            y_pred_train[i] = self.model_at(self.X[[i],:])\n",
        "        return y_pred_train\n",
        "    \n",
        "    def scores(self):      \n",
        "        y_pred_test = self.predictions_test()\n",
        "        y_pred_train = self.predictions_train()\n",
        "        \n",
        "        train_score = -mean_squared_error(self.y, y_pred_train)\n",
        "        test_score = -mean_squared_error(self.y_test, y_pred_test)\n",
        "        \n",
        "        return train_score, test_score"
      ],
      "execution_count": 47,
      "outputs": []
    },
    {
      "cell_type": "code",
      "metadata": {
        "id": "G1wmeFJCZz7G"
      },
      "source": [
        "def LWLR_cross_validation_step(X, y, tau, folds):\n",
        "    \n",
        "    train_scores = np.zeros((1, folds))\n",
        "    test_scores = np.zeros((1, folds))\n",
        "\n",
        "    kf = KFold(n_splits=folds)\n",
        "    kf.get_n_splits(X)\n",
        "\n",
        "    cur_fold = 0\n",
        "    for train_index, test_index in kf.split(X):     \n",
        "\n",
        "        X_train, X_test = X[train_index], X[test_index]\n",
        "        y_train, y_test = y[train_index], y[test_index]     \n",
        "\n",
        "        lwlr = LocallyWeightedLinearRegression(X_train, y_train, X_test, y_test, tau)\n",
        "\n",
        "        train_scores[:,cur_fold], test_scores[:, cur_fold] = lwlr.scores()\n",
        "\n",
        "        cur_fold +=1\n",
        "\n",
        "    return train_scores, test_scores"
      ],
      "execution_count": 48,
      "outputs": []
    },
    {
      "cell_type": "code",
      "metadata": {
        "id": "b4Ed6B_1Zz7I"
      },
      "source": [
        "def LWLR_cross_validation(X, y, tau_range, folds):\n",
        "                          \n",
        "    train_scores = np.zeros((tau_range.shape[0], folds))\n",
        "    test_scores = np.zeros((tau_range.shape[0], folds))\n",
        "\n",
        "    for i,tau in enumerate(tau_range):\n",
        "        train_score, test_score = LWLR_cross_validation_step(X, y, tau, folds) \n",
        "        train_scores[[i],:] = train_score\n",
        "        test_scores[[i],:] = test_score\n",
        "\n",
        "    return train_scores, test_scores"
      ],
      "execution_count": 49,
      "outputs": []
    },
    {
      "cell_type": "code",
      "metadata": {
        "id": "m2hxH7rLZz7K",
        "outputId": "d8dd2136-759d-46b1-db29-ffabf76c772f",
        "colab": {
          "base_uri": "https://localhost:8080/",
          "height": 295
        }
      },
      "source": [
        "\n",
        "tau_range=np.linspace(4, 5, 20)\n",
        "train_scores, test_scores = LWLR_cross_validation(X_train, y_train, tau_range, 10)\n",
        "\n",
        "test_scores_mean = np.mean(test_scores, axis=1)\n",
        "\n",
        "plt.title(\"Validaciona kriva\")\n",
        "plt.xlabel(\"Tau\")\n",
        "plt.ylabel(\"Skor\")\n",
        "lw = 2\n",
        "plt.plot(tau_range, test_scores_mean, label=\"Validacija\",\n",
        "             color=\"navy\")\n",
        "plt.show()"
      ],
      "execution_count": 52,
      "outputs": [
        {
          "output_type": "display_data",
          "data": {
            "image/png": "[encoded data removed]",
            "text/plain": [
              "<Figure size 432x288 with 1 Axes>"
            ]
          },
          "metadata": {
            "tags": [],
            "needs_background": "light"
          }
        }
      ]
    },
    {
      "cell_type": "markdown",
      "metadata": {
        "id": "7Epgp_5lZz7N"
      },
      "source": [
        "Optimalna vrednost hiper-parametra je 4.6. Sada možemo da proverimo kako se model ponaša na validacionom skupu podataka."
      ]
    },
    {
      "cell_type": "code",
      "metadata": {
        "id": "ui6ix5DNZz7N",
        "outputId": "19675770-a643-4c16-8716-4d58302ee5cc",
        "colab": {
          "base_uri": "https://localhost:8080/",
          "height": 0
        }
      },
      "source": [
        "lwlr = LocallyWeightedLinearRegression(X_train, y_train, X_test, y_test, tau=4.6)\n",
        "print(lwlr.scores())"
      ],
      "execution_count": 51,
      "outputs": [
        {
          "output_type": "stream",
          "text": [
            "(-2992.1165246350542, -3640.481544333387)\n"
          ],
          "name": "stdout"
        }
      ]
    },
    {
      "cell_type": "markdown",
      "metadata": {
        "id": "JydJv84OlJrh"
      },
      "source": [
        "### 5.1. Zaključak\n",
        "\n",
        "Naš model na validacionom skupu daje gotovo istu grešku kao i obična linearna regresija. Ponovo, kada se uzme u obzir kompleksnost modela, kao najbolje rešenje se izdvaja obična linearna regresija. Velika prednost lokalno ponderisane linearne regresije je u tome što vrlo jednostavno može da modeluje situacije u kojima dobra aproksmacija nije matematička funkcija u zatvorenoj formi, mada je ovo ujedno i njena mana jer nam samim tim i otežava da razumemo dobijeni rezultat. "
      ]
    },
    {
      "cell_type": "markdown",
      "metadata": {
        "id": "ng117nuonQKs"
      },
      "source": [
        "## 6. Zaključak\n",
        "\n",
        "U ovom domaćem zadatku je prikazano nekolko vrsta linearne regresije - obična, odnosno polinomijalna regresija, sa i bez regularizacije kao i lokalno ponderisana linearna regresija. Implementacija funkcija je urađena po ugledu na gotove funkcije iz biblioteka i cilj implementacije je bio prikazati kako rade objašnjeni algoritmi.\n",
        "\n",
        "Ispostavilo se da je najbolja aproksimacija, kada se uzme u obzir da model treba da bude što jednostavniji, ipak obična linearna regresija. Druga rešenja su dala približno iste rezultate na validacionom skupu, a činjenica da je greška na validacionom i obučavajućem skupu dovoljno slična, dokazuje da model nije preobučen. \n",
        "\n",
        "Greška koju pravimo na validacionom skupu ima dosta veliku standardnu devijaciju, a njena ozbiljnost zavisi, između ostalog, i od toga šta pokušavamo da modelujemo, odnosno šta predstavljaju ti podaci. U ovom kontekstu je teško reći da li je to dovoljno dobar rezultat ili ne, jedino što može da se kaže je da je izlaz bolje predviđen nego što bi bio slučaj da nismo imali date ulaze, to jest, da smo izlaz modelovali kao slučajnu promenljivu.\n",
        "\n",
        "To što smo dobili slične rezultate ukazuje da, ukoliko nismo zadovoljni ponašanjem modela, odnosno smatramo da nije dovoljno tačan, treba da razmotrimo neki drugi pristup, to jest, iz datih podataka su uzete informacije koje su mogle biti dobijene linearnom regresijom i dodatne optimizacije ne mogu da nadoknade ono što ne postoji u samim podacima. \n",
        "\n",
        "Ovo opet zavisi od toga šta predstavljaju ovi podaci; da li ima smisla razmatrati ideju da možda nismo uzeli sva bitna obeležja, da li su merenja takva da se pojavljuje puno šuma, koliko nam je dozvoljena greška, da li je moguće prikupiti još podataka i ponoviti postupak i slično. \n",
        "\n"
      ]
    },
    {
      "cell_type": "code",
      "metadata": {
        "id": "yFoqnoJWvOqS"
      },
      "source": [
        ""
      ],
      "execution_count": null,
      "outputs": []
    }
  ]
}